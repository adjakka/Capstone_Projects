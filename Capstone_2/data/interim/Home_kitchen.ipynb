{
 "cells": [
  {
   "cell_type": "code",
   "execution_count": 1,
   "metadata": {},
   "outputs": [],
   "source": [
    "import pandas as pd\n",
    "import json\n",
    "import ast\n",
    "import urllib.request\n",
    "import numpy as np\n",
    "import cv2\n",
    "import matplotlib.pyplot as plt\n",
    "import numpy as np"
   ]
  },
  {
   "cell_type": "code",
   "execution_count": 2,
   "metadata": {},
   "outputs": [],
   "source": [
    "with open('meta_Home_and_Kitchen.json') as f:\n",
    "    data= [line.rstrip() for line in f]"
   ]
  },
  {
   "cell_type": "code",
   "execution_count": 3,
   "metadata": {},
   "outputs": [],
   "source": [
    "df = [ast.literal_eval(item) for item in data]"
   ]
  },
  {
   "cell_type": "code",
   "execution_count": 4,
   "metadata": {},
   "outputs": [],
   "source": [
    "new_df = pd.DataFrame(df)"
   ]
  },
  {
   "cell_type": "code",
   "execution_count": 5,
   "metadata": {},
   "outputs": [
    {
     "data": {
      "text/plain": [
       "436988"
      ]
     },
     "execution_count": 5,
     "metadata": {},
     "output_type": "execute_result"
    }
   ],
   "source": [
    "len(new_df)"
   ]
  },
  {
   "cell_type": "code",
   "execution_count": 6,
   "metadata": {},
   "outputs": [
    {
     "data": {
      "text/html": [
       "<div>\n",
       "<style scoped>\n",
       "    .dataframe tbody tr th:only-of-type {\n",
       "        vertical-align: middle;\n",
       "    }\n",
       "\n",
       "    .dataframe tbody tr th {\n",
       "        vertical-align: top;\n",
       "    }\n",
       "\n",
       "    .dataframe thead th {\n",
       "        text-align: right;\n",
       "    }\n",
       "</style>\n",
       "<table border=\"1\" class=\"dataframe\">\n",
       "  <thead>\n",
       "    <tr style=\"text-align: right;\">\n",
       "      <th></th>\n",
       "      <th>asin</th>\n",
       "      <th>brand</th>\n",
       "      <th>categories</th>\n",
       "      <th>description</th>\n",
       "      <th>imUrl</th>\n",
       "      <th>price</th>\n",
       "      <th>related</th>\n",
       "      <th>salesRank</th>\n",
       "      <th>title</th>\n",
       "    </tr>\n",
       "  </thead>\n",
       "  <tbody>\n",
       "    <tr>\n",
       "      <th>0</th>\n",
       "      <td>0076144011</td>\n",
       "      <td>NaN</td>\n",
       "      <td>[[Home &amp; Kitchen]]</td>\n",
       "      <td>NaN</td>\n",
       "      <td>http://g-ecx.images-amazon.com/images/G/01/x-s...</td>\n",
       "      <td>NaN</td>\n",
       "      <td>NaN</td>\n",
       "      <td>{'Books': 6285595}</td>\n",
       "      <td>Ninjas, Piranhas, and Galileo</td>\n",
       "    </tr>\n",
       "    <tr>\n",
       "      <th>1</th>\n",
       "      <td>0130350591</td>\n",
       "      <td>NaN</td>\n",
       "      <td>[[Home &amp; Kitchen, Kitchen &amp; Dining, Dining &amp; E...</td>\n",
       "      <td>Each piece of Le Creuset dinnerware is crafted...</td>\n",
       "      <td>http://ecx.images-amazon.com/images/I/21zcx6RC...</td>\n",
       "      <td>NaN</td>\n",
       "      <td>NaN</td>\n",
       "      <td>{'Kitchen &amp; Dining': 459680}</td>\n",
       "      <td>Le Creuset Kiwi (Green) Butter Dish Stoneware</td>\n",
       "    </tr>\n",
       "    <tr>\n",
       "      <th>2</th>\n",
       "      <td>0307394530</td>\n",
       "      <td>Random House</td>\n",
       "      <td>[[Home &amp; Kitchen, Artwork, Posters &amp; Prints]]</td>\n",
       "      <td>Of all the decisions that go into planning a w...</td>\n",
       "      <td>http://ecx.images-amazon.com/images/I/51A4FWuj...</td>\n",
       "      <td>14.99</td>\n",
       "      <td>{'also_bought': ['144630163X', '1402717733', '...</td>\n",
       "      <td>{'Arts, Crafts &amp; Sewing': 3597}</td>\n",
       "      <td>Martha Stewart's Wedding Cakes</td>\n",
       "    </tr>\n",
       "    <tr>\n",
       "      <th>3</th>\n",
       "      <td>0439903491</td>\n",
       "      <td>NaN</td>\n",
       "      <td>[[Home &amp; Kitchen, Artwork, Posters &amp; Prints]]</td>\n",
       "      <td>Shiver me timbers! Solve I SPY pirate picture ...</td>\n",
       "      <td>http://ecx.images-amazon.com/images/I/61tVxcko...</td>\n",
       "      <td>29.99</td>\n",
       "      <td>{'also_viewed': ['B000YFSZU8', 'B0016KWZB0', '...</td>\n",
       "      <td>{'Software': 7065}</td>\n",
       "      <td>NaN</td>\n",
       "    </tr>\n",
       "    <tr>\n",
       "      <th>4</th>\n",
       "      <td>0578060604</td>\n",
       "      <td>NaN</td>\n",
       "      <td>[[Home &amp; Kitchen, Furniture, Kitchen &amp; Dining ...</td>\n",
       "      <td>The Maloofinspired Low Back Dining Chair is no...</td>\n",
       "      <td>http://ecx.images-amazon.com/images/I/41aCELWJ...</td>\n",
       "      <td>NaN</td>\n",
       "      <td>{'also_viewed': ['B004IO6RS8']}</td>\n",
       "      <td>NaN</td>\n",
       "      <td>Build A Maloof Inspired Low Back Dining Chair ...</td>\n",
       "    </tr>\n",
       "  </tbody>\n",
       "</table>\n",
       "</div>"
      ],
      "text/plain": [
       "         asin         brand  \\\n",
       "0  0076144011           NaN   \n",
       "1  0130350591           NaN   \n",
       "2  0307394530  Random House   \n",
       "3  0439903491           NaN   \n",
       "4  0578060604           NaN   \n",
       "\n",
       "                                          categories  \\\n",
       "0                                 [[Home & Kitchen]]   \n",
       "1  [[Home & Kitchen, Kitchen & Dining, Dining & E...   \n",
       "2      [[Home & Kitchen, Artwork, Posters & Prints]]   \n",
       "3      [[Home & Kitchen, Artwork, Posters & Prints]]   \n",
       "4  [[Home & Kitchen, Furniture, Kitchen & Dining ...   \n",
       "\n",
       "                                         description  \\\n",
       "0                                                NaN   \n",
       "1  Each piece of Le Creuset dinnerware is crafted...   \n",
       "2  Of all the decisions that go into planning a w...   \n",
       "3  Shiver me timbers! Solve I SPY pirate picture ...   \n",
       "4  The Maloofinspired Low Back Dining Chair is no...   \n",
       "\n",
       "                                               imUrl  price  \\\n",
       "0  http://g-ecx.images-amazon.com/images/G/01/x-s...    NaN   \n",
       "1  http://ecx.images-amazon.com/images/I/21zcx6RC...    NaN   \n",
       "2  http://ecx.images-amazon.com/images/I/51A4FWuj...  14.99   \n",
       "3  http://ecx.images-amazon.com/images/I/61tVxcko...  29.99   \n",
       "4  http://ecx.images-amazon.com/images/I/41aCELWJ...    NaN   \n",
       "\n",
       "                                             related  \\\n",
       "0                                                NaN   \n",
       "1                                                NaN   \n",
       "2  {'also_bought': ['144630163X', '1402717733', '...   \n",
       "3  {'also_viewed': ['B000YFSZU8', 'B0016KWZB0', '...   \n",
       "4                    {'also_viewed': ['B004IO6RS8']}   \n",
       "\n",
       "                         salesRank  \\\n",
       "0               {'Books': 6285595}   \n",
       "1     {'Kitchen & Dining': 459680}   \n",
       "2  {'Arts, Crafts & Sewing': 3597}   \n",
       "3               {'Software': 7065}   \n",
       "4                              NaN   \n",
       "\n",
       "                                               title  \n",
       "0                      Ninjas, Piranhas, and Galileo  \n",
       "1      Le Creuset Kiwi (Green) Butter Dish Stoneware  \n",
       "2                     Martha Stewart's Wedding Cakes  \n",
       "3                                                NaN  \n",
       "4  Build A Maloof Inspired Low Back Dining Chair ...  "
      ]
     },
     "execution_count": 6,
     "metadata": {},
     "output_type": "execute_result"
    }
   ],
   "source": [
    "new_df.head()"
   ]
  },
  {
   "cell_type": "code",
   "execution_count": 7,
   "metadata": {},
   "outputs": [],
   "source": [
    "new_df = new_df[['description', 'imUrl', 'title']]"
   ]
  },
  {
   "cell_type": "code",
   "execution_count": 8,
   "metadata": {},
   "outputs": [],
   "source": [
    "new_df = new_df.dropna()"
   ]
  },
  {
   "cell_type": "code",
   "execution_count": 9,
   "metadata": {},
   "outputs": [
    {
     "data": {
      "text/plain": [
       "404511"
      ]
     },
     "execution_count": 9,
     "metadata": {},
     "output_type": "execute_result"
    }
   ],
   "source": [
    "len(new_df)"
   ]
  },
  {
   "cell_type": "code",
   "execution_count": 10,
   "metadata": {},
   "outputs": [],
   "source": [
    "new_df = new_df.loc[new_df.imUrl.str.contains('jpg')]"
   ]
  },
  {
   "cell_type": "code",
   "execution_count": 11,
   "metadata": {},
   "outputs": [
    {
     "data": {
      "text/plain": [
       "402969"
      ]
     },
     "execution_count": 11,
     "metadata": {},
     "output_type": "execute_result"
    }
   ],
   "source": [
    "len(new_df)"
   ]
  },
  {
   "cell_type": "code",
   "execution_count": 12,
   "metadata": {},
   "outputs": [],
   "source": [
    "new_df = new_df.reset_index(drop = True)"
   ]
  },
  {
   "cell_type": "code",
   "execution_count": 13,
   "metadata": {},
   "outputs": [],
   "source": [
    "df_subset = new_df.sample(frac=0.19,random_state=42)"
   ]
  },
  {
   "cell_type": "code",
   "execution_count": 14,
   "metadata": {},
   "outputs": [
    {
     "data": {
      "text/plain": [
       "76564"
      ]
     },
     "execution_count": 14,
     "metadata": {},
     "output_type": "execute_result"
    }
   ],
   "source": [
    "len(df_subset)"
   ]
  },
  {
   "cell_type": "code",
   "execution_count": 15,
   "metadata": {},
   "outputs": [],
   "source": [
    "df_subset = df_subset.reset_index(drop = True)"
   ]
  },
  {
   "cell_type": "code",
   "execution_count": 16,
   "metadata": {},
   "outputs": [
    {
     "data": {
      "text/plain": [
       "76564"
      ]
     },
     "execution_count": 16,
     "metadata": {},
     "output_type": "execute_result"
    }
   ],
   "source": [
    "len(df_subset)"
   ]
  },
  {
   "cell_type": "code",
   "execution_count": 17,
   "metadata": {},
   "outputs": [
    {
     "data": {
      "text/html": [
       "<div>\n",
       "<style scoped>\n",
       "    .dataframe tbody tr th:only-of-type {\n",
       "        vertical-align: middle;\n",
       "    }\n",
       "\n",
       "    .dataframe tbody tr th {\n",
       "        vertical-align: top;\n",
       "    }\n",
       "\n",
       "    .dataframe thead th {\n",
       "        text-align: right;\n",
       "    }\n",
       "</style>\n",
       "<table border=\"1\" class=\"dataframe\">\n",
       "  <thead>\n",
       "    <tr style=\"text-align: right;\">\n",
       "      <th></th>\n",
       "      <th>description</th>\n",
       "      <th>imUrl</th>\n",
       "      <th>title</th>\n",
       "    </tr>\n",
       "  </thead>\n",
       "  <tbody>\n",
       "    <tr>\n",
       "      <th>0</th>\n",
       "      <td>Friendly Village by Johnson Brothers, introduc...</td>\n",
       "      <td>http://ecx.images-amazon.com/images/I/41MXBRGC...</td>\n",
       "      <td>Johnson Brothers Friendly Village 8-Inch Veget...</td>\n",
       "    </tr>\n",
       "    <tr>\n",
       "      <th>1</th>\n",
       "      <td>Sharp's exclusive and highly esteemed Plasmacl...</td>\n",
       "      <td>http://ecx.images-amazon.com/images/I/41tRnWfb...</td>\n",
       "      <td>SHARP Plasmacluster Air Ionizer IG-CM1 B Black...</td>\n",
       "    </tr>\n",
       "    <tr>\n",
       "      <th>2</th>\n",
       "      <td>Colorwave Chocolate has a matte-textured, deep...</td>\n",
       "      <td>http://ecx.images-amazon.com/images/I/31ummNI9...</td>\n",
       "      <td>Noritake Colorwave Floral Bowl, 4-Inch, Chocol...</td>\n",
       "    </tr>\n",
       "  </tbody>\n",
       "</table>\n",
       "</div>"
      ],
      "text/plain": [
       "                                         description  \\\n",
       "0  Friendly Village by Johnson Brothers, introduc...   \n",
       "1  Sharp's exclusive and highly esteemed Plasmacl...   \n",
       "2  Colorwave Chocolate has a matte-textured, deep...   \n",
       "\n",
       "                                               imUrl  \\\n",
       "0  http://ecx.images-amazon.com/images/I/41MXBRGC...   \n",
       "1  http://ecx.images-amazon.com/images/I/41tRnWfb...   \n",
       "2  http://ecx.images-amazon.com/images/I/31ummNI9...   \n",
       "\n",
       "                                               title  \n",
       "0  Johnson Brothers Friendly Village 8-Inch Veget...  \n",
       "1  SHARP Plasmacluster Air Ionizer IG-CM1 B Black...  \n",
       "2  Noritake Colorwave Floral Bowl, 4-Inch, Chocol...  "
      ]
     },
     "execution_count": 17,
     "metadata": {},
     "output_type": "execute_result"
    }
   ],
   "source": [
    "df_subset.head(3)"
   ]
  },
  {
   "cell_type": "code",
   "execution_count": 18,
   "metadata": {},
   "outputs": [
    {
     "name": "stdout",
     "output_type": "stream",
     "text": [
      "[nltk_data] Downloading package stopwords to\n",
      "[nltk_data]     /home/streetraider92/nltk_data...\n",
      "[nltk_data]   Package stopwords is already up-to-date!\n"
     ]
    },
    {
     "data": {
      "text/plain": [
       "True"
      ]
     },
     "execution_count": 18,
     "metadata": {},
     "output_type": "execute_result"
    }
   ],
   "source": [
    "import nltk\n",
    "nltk.download('stopwords')"
   ]
  },
  {
   "cell_type": "code",
   "execution_count": 19,
   "metadata": {},
   "outputs": [],
   "source": [
    "from nltk.corpus import stopwords\n",
    "stop = stopwords.words('english')"
   ]
  },
  {
   "cell_type": "code",
   "execution_count": 64,
   "metadata": {},
   "outputs": [],
   "source": [
    "df_subset['description_new']  = df_subset['description'].apply(lambda x: x.translate ({ord(c): \" \" for c in \"!@#$%^&*()[]{};:,/<>?\\|`~-=_+\"}))"
   ]
  },
  {
   "cell_type": "code",
   "execution_count": 65,
   "metadata": {},
   "outputs": [],
   "source": [
    "df_subset['description_new'] = df_subset['description_new'].str.replace('  ', ' ').str.replace('   ', ' ')"
   ]
  },
  {
   "cell_type": "code",
   "execution_count": 58,
   "metadata": {},
   "outputs": [],
   "source": [
    "df_subset = df_subset.drop_duplicates()"
   ]
  },
  {
   "cell_type": "code",
   "execution_count": 59,
   "metadata": {},
   "outputs": [
    {
     "data": {
      "text/plain": [
       "76384"
      ]
     },
     "execution_count": 59,
     "metadata": {},
     "output_type": "execute_result"
    }
   ],
   "source": [
    "len(df_subset)"
   ]
  },
  {
   "cell_type": "code",
   "execution_count": 60,
   "metadata": {},
   "outputs": [],
   "source": [
    "df_subset = df_subset.reset_index(drop=True)"
   ]
  },
  {
   "cell_type": "code",
   "execution_count": 68,
   "metadata": {},
   "outputs": [
    {
     "data": {
      "text/plain": [
       "'Never forget where you stashed it with the Condolisa storage table from Umbra. Cleverly designed to resemble a contemporary condominimum unit this storage table features wood construction a versatile high gloss white finish frosted acrylic \"windows\" of various sizes that offer a glimpse of the contents and an outer cubby for frequently used items. The removable lid has indented handles for easy lifting. Unit measures 19 by 14 by 14 inch. Created by Teddy Luong  designer of the hit Fish Hotel fishbowl  for Umbra the worldwide leader in casual contemporary affordable design for the home.'"
      ]
     },
     "execution_count": 68,
     "metadata": {},
     "output_type": "execute_result"
    }
   ],
   "source": [
    "df_subset['description_new'].loc[32779]"
   ]
  },
  {
   "cell_type": "code",
   "execution_count": 69,
   "metadata": {},
   "outputs": [],
   "source": [
    "final_df = df_subset[['imUrl', 'title', 'description', 'description_new']]"
   ]
  },
  {
   "cell_type": "code",
   "execution_count": 70,
   "metadata": {},
   "outputs": [],
   "source": [
    "final_df = final_df.drop_duplicates()"
   ]
  },
  {
   "cell_type": "code",
   "execution_count": 71,
   "metadata": {},
   "outputs": [],
   "source": [
    "final_df = final_df.reset_index(drop=True)"
   ]
  },
  {
   "cell_type": "code",
   "execution_count": 72,
   "metadata": {},
   "outputs": [],
   "source": [
    "final_df.to_csv('home_kitchen.csv', index=False)"
   ]
  }
 ],
 "metadata": {
  "kernelspec": {
   "display_name": "Python 3",
   "language": "python",
   "name": "python3"
  },
  "language_info": {
   "codemirror_mode": {
    "name": "ipython",
    "version": 3
   },
   "file_extension": ".py",
   "mimetype": "text/x-python",
   "name": "python",
   "nbconvert_exporter": "python",
   "pygments_lexer": "ipython3",
   "version": "3.6.5"
  }
 },
 "nbformat": 4,
 "nbformat_minor": 2
}
