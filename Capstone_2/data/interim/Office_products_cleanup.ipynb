{
 "cells": [
  {
   "cell_type": "code",
   "execution_count": 1,
   "metadata": {},
   "outputs": [],
   "source": [
    "import pandas as pd\n",
    "import json\n",
    "import ast\n",
    "import urllib.request\n",
    "import numpy as np\n",
    "import cv2\n",
    "import matplotlib.pyplot as plt\n",
    "import numpy as np"
   ]
  },
  {
   "cell_type": "code",
   "execution_count": 2,
   "metadata": {},
   "outputs": [],
   "source": [
    "with open('meta_Office_Products.json') as f:\n",
    "    data= [line.rstrip() for line in f]"
   ]
  },
  {
   "cell_type": "code",
   "execution_count": 3,
   "metadata": {},
   "outputs": [],
   "source": [
    "df = [ast.literal_eval(item) for item in data]"
   ]
  },
  {
   "cell_type": "code",
   "execution_count": 4,
   "metadata": {},
   "outputs": [],
   "source": [
    "new_df = pd.DataFrame(df)"
   ]
  },
  {
   "cell_type": "code",
   "execution_count": 5,
   "metadata": {},
   "outputs": [
    {
     "data": {
      "text/plain": [
       "134838"
      ]
     },
     "execution_count": 5,
     "metadata": {},
     "output_type": "execute_result"
    }
   ],
   "source": [
    "len(new_df)"
   ]
  },
  {
   "cell_type": "code",
   "execution_count": 6,
   "metadata": {},
   "outputs": [
    {
     "data": {
      "text/html": [
       "<div>\n",
       "<style scoped>\n",
       "    .dataframe tbody tr th:only-of-type {\n",
       "        vertical-align: middle;\n",
       "    }\n",
       "\n",
       "    .dataframe tbody tr th {\n",
       "        vertical-align: top;\n",
       "    }\n",
       "\n",
       "    .dataframe thead th {\n",
       "        text-align: right;\n",
       "    }\n",
       "</style>\n",
       "<table border=\"1\" class=\"dataframe\">\n",
       "  <thead>\n",
       "    <tr style=\"text-align: right;\">\n",
       "      <th></th>\n",
       "      <th>asin</th>\n",
       "      <th>brand</th>\n",
       "      <th>categories</th>\n",
       "      <th>description</th>\n",
       "      <th>imUrl</th>\n",
       "      <th>price</th>\n",
       "      <th>related</th>\n",
       "      <th>salesRank</th>\n",
       "      <th>title</th>\n",
       "    </tr>\n",
       "  </thead>\n",
       "  <tbody>\n",
       "    <tr>\n",
       "      <th>0</th>\n",
       "      <td>0078800242</td>\n",
       "      <td>NaN</td>\n",
       "      <td>[[Office Products, Office &amp; School Supplies, C...</td>\n",
       "      <td>All in one TeacherWorks Plus CD-ROM</td>\n",
       "      <td>http://ecx.images-amazon.com/images/I/41K1aBkl...</td>\n",
       "      <td>93.06</td>\n",
       "      <td>{'buy_after_viewing': ['007861970X']}</td>\n",
       "      <td>{'Software': 18529}</td>\n",
       "      <td>NaN</td>\n",
       "    </tr>\n",
       "    <tr>\n",
       "      <th>1</th>\n",
       "      <td>0113000316</td>\n",
       "      <td>NaN</td>\n",
       "      <td>[[Office Products, Office &amp; School Supplies, P...</td>\n",
       "      <td>High quality inkjet cartridges use high-densit...</td>\n",
       "      <td>http://ecx.images-amazon.com/images/I/51AMwP3D...</td>\n",
       "      <td>NaN</td>\n",
       "      <td>NaN</td>\n",
       "      <td>NaN</td>\n",
       "      <td>123GetInk -14-pack 5-black 3-cyan 3-magenta 3-...</td>\n",
       "    </tr>\n",
       "    <tr>\n",
       "      <th>2</th>\n",
       "      <td>043928631X</td>\n",
       "      <td>NaN</td>\n",
       "      <td>[[Office Products, Office &amp; School Supplies, L...</td>\n",
       "      <td>Harry Potter living bookmark showing Harry, He...</td>\n",
       "      <td>http://ecx.images-amazon.com/images/I/41SulB7T...</td>\n",
       "      <td>NaN</td>\n",
       "      <td>NaN</td>\n",
       "      <td>NaN</td>\n",
       "      <td>Harry Potter Lenticular Hologram Bookmark - Ha...</td>\n",
       "    </tr>\n",
       "    <tr>\n",
       "      <th>3</th>\n",
       "      <td>0439340039</td>\n",
       "      <td>NaN</td>\n",
       "      <td>[[Office Products, Office &amp; School Supplies, E...</td>\n",
       "      <td>Windows based computer game.</td>\n",
       "      <td>http://ecx.images-amazon.com/images/I/51zQE0w%...</td>\n",
       "      <td>NaN</td>\n",
       "      <td>NaN</td>\n",
       "      <td>{'Software': 32784}</td>\n",
       "      <td>NaN</td>\n",
       "    </tr>\n",
       "    <tr>\n",
       "      <th>4</th>\n",
       "      <td>0439394058</td>\n",
       "      <td>Scholastic</td>\n",
       "      <td>[[Office Products, Office &amp; School Supplies, E...</td>\n",
       "      <td>126 pieces: 23\" tall schoolhouse calendar, 12 ...</td>\n",
       "      <td>http://ecx.images-amazon.com/images/I/51DFp0Lg...</td>\n",
       "      <td>11.64</td>\n",
       "      <td>{'also_bought': ['B000QE1HHU', 'B00207MG4Y', '...</td>\n",
       "      <td>NaN</td>\n",
       "      <td>Scholastic SC939405 All-In-One Schoolhouse Cal...</td>\n",
       "    </tr>\n",
       "  </tbody>\n",
       "</table>\n",
       "</div>"
      ],
      "text/plain": [
       "         asin       brand                                         categories  \\\n",
       "0  0078800242         NaN  [[Office Products, Office & School Supplies, C...   \n",
       "1  0113000316         NaN  [[Office Products, Office & School Supplies, P...   \n",
       "2  043928631X         NaN  [[Office Products, Office & School Supplies, L...   \n",
       "3  0439340039         NaN  [[Office Products, Office & School Supplies, E...   \n",
       "4  0439394058  Scholastic  [[Office Products, Office & School Supplies, E...   \n",
       "\n",
       "                                         description  \\\n",
       "0                All in one TeacherWorks Plus CD-ROM   \n",
       "1  High quality inkjet cartridges use high-densit...   \n",
       "2  Harry Potter living bookmark showing Harry, He...   \n",
       "3                       Windows based computer game.   \n",
       "4  126 pieces: 23\" tall schoolhouse calendar, 12 ...   \n",
       "\n",
       "                                               imUrl  price  \\\n",
       "0  http://ecx.images-amazon.com/images/I/41K1aBkl...  93.06   \n",
       "1  http://ecx.images-amazon.com/images/I/51AMwP3D...    NaN   \n",
       "2  http://ecx.images-amazon.com/images/I/41SulB7T...    NaN   \n",
       "3  http://ecx.images-amazon.com/images/I/51zQE0w%...    NaN   \n",
       "4  http://ecx.images-amazon.com/images/I/51DFp0Lg...  11.64   \n",
       "\n",
       "                                             related            salesRank  \\\n",
       "0              {'buy_after_viewing': ['007861970X']}  {'Software': 18529}   \n",
       "1                                                NaN                  NaN   \n",
       "2                                                NaN                  NaN   \n",
       "3                                                NaN  {'Software': 32784}   \n",
       "4  {'also_bought': ['B000QE1HHU', 'B00207MG4Y', '...                  NaN   \n",
       "\n",
       "                                               title  \n",
       "0                                                NaN  \n",
       "1  123GetInk -14-pack 5-black 3-cyan 3-magenta 3-...  \n",
       "2  Harry Potter Lenticular Hologram Bookmark - Ha...  \n",
       "3                                                NaN  \n",
       "4  Scholastic SC939405 All-In-One Schoolhouse Cal...  "
      ]
     },
     "execution_count": 6,
     "metadata": {},
     "output_type": "execute_result"
    }
   ],
   "source": [
    "new_df.head()"
   ]
  },
  {
   "cell_type": "code",
   "execution_count": 7,
   "metadata": {},
   "outputs": [],
   "source": [
    "new_df = new_df[['description', 'imUrl', 'title']]"
   ]
  },
  {
   "cell_type": "code",
   "execution_count": 8,
   "metadata": {},
   "outputs": [],
   "source": [
    "new_df = new_df.dropna()"
   ]
  },
  {
   "cell_type": "code",
   "execution_count": 9,
   "metadata": {},
   "outputs": [
    {
     "data": {
      "text/plain": [
       "124331"
      ]
     },
     "execution_count": 9,
     "metadata": {},
     "output_type": "execute_result"
    }
   ],
   "source": [
    "len(new_df)"
   ]
  },
  {
   "cell_type": "code",
   "execution_count": 10,
   "metadata": {},
   "outputs": [],
   "source": [
    "new_df = new_df.loc[new_df.imUrl.str.contains('jpg')]"
   ]
  },
  {
   "cell_type": "code",
   "execution_count": 11,
   "metadata": {},
   "outputs": [
    {
     "data": {
      "text/plain": [
       "123711"
      ]
     },
     "execution_count": 11,
     "metadata": {},
     "output_type": "execute_result"
    }
   ],
   "source": [
    "len(new_df)"
   ]
  },
  {
   "cell_type": "code",
   "execution_count": 12,
   "metadata": {},
   "outputs": [],
   "source": [
    "new_df = new_df.reset_index(drop = True)"
   ]
  },
  {
   "cell_type": "code",
   "execution_count": 13,
   "metadata": {},
   "outputs": [],
   "source": [
    "df_subset = new_df.sample(70000,random_state=42)"
   ]
  },
  {
   "cell_type": "code",
   "execution_count": 14,
   "metadata": {},
   "outputs": [
    {
     "data": {
      "text/plain": [
       "70000"
      ]
     },
     "execution_count": 14,
     "metadata": {},
     "output_type": "execute_result"
    }
   ],
   "source": [
    "len(df_subset)"
   ]
  },
  {
   "cell_type": "code",
   "execution_count": 15,
   "metadata": {},
   "outputs": [],
   "source": [
    "df_subset = df_subset.reset_index(drop = True)"
   ]
  },
  {
   "cell_type": "code",
   "execution_count": 16,
   "metadata": {},
   "outputs": [
    {
     "data": {
      "text/plain": [
       "70000"
      ]
     },
     "execution_count": 16,
     "metadata": {},
     "output_type": "execute_result"
    }
   ],
   "source": [
    "len(df_subset)"
   ]
  },
  {
   "cell_type": "code",
   "execution_count": 17,
   "metadata": {},
   "outputs": [
    {
     "data": {
      "text/html": [
       "<div>\n",
       "<style scoped>\n",
       "    .dataframe tbody tr th:only-of-type {\n",
       "        vertical-align: middle;\n",
       "    }\n",
       "\n",
       "    .dataframe tbody tr th {\n",
       "        vertical-align: top;\n",
       "    }\n",
       "\n",
       "    .dataframe thead th {\n",
       "        text-align: right;\n",
       "    }\n",
       "</style>\n",
       "<table border=\"1\" class=\"dataframe\">\n",
       "  <thead>\n",
       "    <tr style=\"text-align: right;\">\n",
       "      <th></th>\n",
       "      <th>description</th>\n",
       "      <th>imUrl</th>\n",
       "      <th>title</th>\n",
       "    </tr>\n",
       "  </thead>\n",
       "  <tbody>\n",
       "    <tr>\n",
       "      <th>0</th>\n",
       "      <td>Item TAXCVR610\\n\\nUse this tax return cover fo...</td>\n",
       "      <td>http://ecx.images-amazon.com/images/I/31GQFtyz...</td>\n",
       "      <td>EGP Income Tax Return Cover</td>\n",
       "    </tr>\n",
       "    <tr>\n",
       "      <th>1</th>\n",
       "      <td>Compatible Magenta High Capacity Epson Toner C...</td>\n",
       "      <td>http://ecx.images-amazon.com/images/I/31XtfnUA...</td>\n",
       "      <td>Compatible Magenta High Capacity Epson Toner C...</td>\n",
       "    </tr>\n",
       "    <tr>\n",
       "      <th>2</th>\n",
       "      <td>The iPaperPad is not magical or revolutionary....</td>\n",
       "      <td>http://ecx.images-amazon.com/images/I/31TefcCO...</td>\n",
       "      <td>iPaperPad - a paper pad not an iPad</td>\n",
       "    </tr>\n",
       "  </tbody>\n",
       "</table>\n",
       "</div>"
      ],
      "text/plain": [
       "                                         description  \\\n",
       "0  Item TAXCVR610\\n\\nUse this tax return cover fo...   \n",
       "1  Compatible Magenta High Capacity Epson Toner C...   \n",
       "2  The iPaperPad is not magical or revolutionary....   \n",
       "\n",
       "                                               imUrl  \\\n",
       "0  http://ecx.images-amazon.com/images/I/31GQFtyz...   \n",
       "1  http://ecx.images-amazon.com/images/I/31XtfnUA...   \n",
       "2  http://ecx.images-amazon.com/images/I/31TefcCO...   \n",
       "\n",
       "                                               title  \n",
       "0                        EGP Income Tax Return Cover  \n",
       "1  Compatible Magenta High Capacity Epson Toner C...  \n",
       "2                iPaperPad - a paper pad not an iPad  "
      ]
     },
     "execution_count": 17,
     "metadata": {},
     "output_type": "execute_result"
    }
   ],
   "source": [
    "df_subset.head(3)"
   ]
  },
  {
   "cell_type": "code",
   "execution_count": 18,
   "metadata": {},
   "outputs": [
    {
     "name": "stdout",
     "output_type": "stream",
     "text": [
      "[nltk_data] Downloading package stopwords to\n",
      "[nltk_data]     /home/streetraider92/nltk_data...\n",
      "[nltk_data]   Package stopwords is already up-to-date!\n"
     ]
    },
    {
     "data": {
      "text/plain": [
       "True"
      ]
     },
     "execution_count": 18,
     "metadata": {},
     "output_type": "execute_result"
    }
   ],
   "source": [
    "import nltk\n",
    "nltk.download('stopwords')"
   ]
  },
  {
   "cell_type": "code",
   "execution_count": 20,
   "metadata": {},
   "outputs": [],
   "source": [
    "df_subset['description_new']  = df_subset['description'].apply(lambda x: x.translate ({ord(c): \" \" for c in \"!@#$%^&*()[]{};:,/<>?\\|`~-=_+\"}))"
   ]
  },
  {
   "cell_type": "code",
   "execution_count": 21,
   "metadata": {},
   "outputs": [],
   "source": [
    "df_subset['description_new'] = df_subset['description_new'].str.replace('  ', ' ').str.replace('   ', ' ')"
   ]
  },
  {
   "cell_type": "code",
   "execution_count": 22,
   "metadata": {},
   "outputs": [
    {
     "data": {
      "text/plain": [
       "'Purchase includes one 32\" x 32\" x 32\" single wall box. Extra creases and small tears may be found due to shipping and handling but are not considered defective or damaged for returns.'"
      ]
     },
     "execution_count": 22,
     "metadata": {},
     "output_type": "execute_result"
    }
   ],
   "source": [
    "df_subset['description'].loc[7329]"
   ]
  },
  {
   "cell_type": "code",
   "execution_count": 23,
   "metadata": {},
   "outputs": [
    {
     "data": {
      "text/plain": [
       "'Purchase includes one 32\" x 32\" x 32\" single wall box. Extra creases and small tears may be found due to shipping and handling but are not considered defective or damaged for returns.'"
      ]
     },
     "execution_count": 23,
     "metadata": {},
     "output_type": "execute_result"
    }
   ],
   "source": [
    "df_subset['description_new'].loc[7329]"
   ]
  },
  {
   "cell_type": "code",
   "execution_count": 24,
   "metadata": {},
   "outputs": [],
   "source": [
    "df_subset = df_subset.drop_duplicates()"
   ]
  },
  {
   "cell_type": "code",
   "execution_count": 25,
   "metadata": {},
   "outputs": [
    {
     "data": {
      "text/plain": [
       "69896"
      ]
     },
     "execution_count": 25,
     "metadata": {},
     "output_type": "execute_result"
    }
   ],
   "source": [
    "len(df_subset)"
   ]
  },
  {
   "cell_type": "code",
   "execution_count": 26,
   "metadata": {},
   "outputs": [],
   "source": [
    "df_subset = df_subset.reset_index(drop=True)"
   ]
  },
  {
   "cell_type": "code",
   "execution_count": 30,
   "metadata": {},
   "outputs": [],
   "source": [
    "final_df = df_subset[['imUrl', 'title', 'description', 'description_new']]"
   ]
  },
  {
   "cell_type": "code",
   "execution_count": 31,
   "metadata": {},
   "outputs": [],
   "source": [
    "final_df = final_df.drop_duplicates()"
   ]
  },
  {
   "cell_type": "code",
   "execution_count": 32,
   "metadata": {},
   "outputs": [],
   "source": [
    "final_df = final_df.reset_index(drop=True)"
   ]
  },
  {
   "cell_type": "code",
   "execution_count": 33,
   "metadata": {},
   "outputs": [],
   "source": [
    "final_df.to_csv('office_products.csv', index=False)"
   ]
  }
 ],
 "metadata": {
  "kernelspec": {
   "display_name": "Python 3",
   "language": "python",
   "name": "python3"
  },
  "language_info": {
   "codemirror_mode": {
    "name": "ipython",
    "version": 3
   },
   "file_extension": ".py",
   "mimetype": "text/x-python",
   "name": "python",
   "nbconvert_exporter": "python",
   "pygments_lexer": "ipython3",
   "version": "3.6.5"
  }
 },
 "nbformat": 4,
 "nbformat_minor": 2
}
