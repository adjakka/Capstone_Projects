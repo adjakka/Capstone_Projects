{
 "cells": [
  {
   "cell_type": "markdown",
   "metadata": {},
   "source": [
    "Importing the required modules."
   ]
  },
  {
   "cell_type": "code",
   "execution_count": 5,
   "metadata": {},
   "outputs": [],
   "source": [
    "import pandas as pd\n",
    "import numpy as np\n",
    "import matplotlib.pyplot as plt\n",
    "plt.style.use('ggplot')\n",
    "%matplotlib inline"
   ]
  },
  {
   "cell_type": "code",
   "execution_count": 7,
   "metadata": {},
   "outputs": [],
   "source": [
    "#Let's load the dataframe.\n",
    "data = pd.read_csv('C:\\Springboard Capstone Projects\\Springboard_Capstone_Projects\\Springboard_Capstone_Projects\\Springboard_Capstone_Project_1\\Data\\\\train_data.csv')"
   ]
  },
  {
   "cell_type": "markdown",
   "metadata": {},
   "source": [
    "Let us analyze the columns.We can see that there are 13 columns in total. Our goal based on this dataset would be to predict the value of the dependent variable, 'Loan_Status'"
   ]
  },
  {
   "cell_type": "code",
   "execution_count": 8,
   "metadata": {},
   "outputs": [
    {
     "data": {
      "text/html": [
       "<div>\n",
       "<style scoped>\n",
       "    .dataframe tbody tr th:only-of-type {\n",
       "        vertical-align: middle;\n",
       "    }\n",
       "\n",
       "    .dataframe tbody tr th {\n",
       "        vertical-align: top;\n",
       "    }\n",
       "\n",
       "    .dataframe thead th {\n",
       "        text-align: right;\n",
       "    }\n",
       "</style>\n",
       "<table border=\"1\" class=\"dataframe\">\n",
       "  <thead>\n",
       "    <tr style=\"text-align: right;\">\n",
       "      <th></th>\n",
       "      <th>Loan_ID</th>\n",
       "      <th>Gender</th>\n",
       "      <th>Married</th>\n",
       "      <th>Dependents</th>\n",
       "      <th>Education</th>\n",
       "      <th>Self_Employed</th>\n",
       "      <th>ApplicantIncome</th>\n",
       "      <th>CoapplicantIncome</th>\n",
       "      <th>LoanAmount</th>\n",
       "      <th>Loan_Amount_Term</th>\n",
       "      <th>Credit_History</th>\n",
       "      <th>Property_Area</th>\n",
       "      <th>Loan_Status</th>\n",
       "    </tr>\n",
       "  </thead>\n",
       "  <tbody>\n",
       "    <tr>\n",
       "      <th>0</th>\n",
       "      <td>LP001002</td>\n",
       "      <td>Male</td>\n",
       "      <td>No</td>\n",
       "      <td>0</td>\n",
       "      <td>Graduate</td>\n",
       "      <td>No</td>\n",
       "      <td>5849</td>\n",
       "      <td>0.0</td>\n",
       "      <td>NaN</td>\n",
       "      <td>360.0</td>\n",
       "      <td>1.0</td>\n",
       "      <td>Urban</td>\n",
       "      <td>Y</td>\n",
       "    </tr>\n",
       "    <tr>\n",
       "      <th>1</th>\n",
       "      <td>LP001003</td>\n",
       "      <td>Male</td>\n",
       "      <td>Yes</td>\n",
       "      <td>1</td>\n",
       "      <td>Graduate</td>\n",
       "      <td>No</td>\n",
       "      <td>4583</td>\n",
       "      <td>1508.0</td>\n",
       "      <td>128.0</td>\n",
       "      <td>360.0</td>\n",
       "      <td>1.0</td>\n",
       "      <td>Rural</td>\n",
       "      <td>N</td>\n",
       "    </tr>\n",
       "    <tr>\n",
       "      <th>2</th>\n",
       "      <td>LP001005</td>\n",
       "      <td>Male</td>\n",
       "      <td>Yes</td>\n",
       "      <td>0</td>\n",
       "      <td>Graduate</td>\n",
       "      <td>Yes</td>\n",
       "      <td>3000</td>\n",
       "      <td>0.0</td>\n",
       "      <td>66.0</td>\n",
       "      <td>360.0</td>\n",
       "      <td>1.0</td>\n",
       "      <td>Urban</td>\n",
       "      <td>Y</td>\n",
       "    </tr>\n",
       "    <tr>\n",
       "      <th>3</th>\n",
       "      <td>LP001006</td>\n",
       "      <td>Male</td>\n",
       "      <td>Yes</td>\n",
       "      <td>0</td>\n",
       "      <td>Not Graduate</td>\n",
       "      <td>No</td>\n",
       "      <td>2583</td>\n",
       "      <td>2358.0</td>\n",
       "      <td>120.0</td>\n",
       "      <td>360.0</td>\n",
       "      <td>1.0</td>\n",
       "      <td>Urban</td>\n",
       "      <td>Y</td>\n",
       "    </tr>\n",
       "    <tr>\n",
       "      <th>4</th>\n",
       "      <td>LP001008</td>\n",
       "      <td>Male</td>\n",
       "      <td>No</td>\n",
       "      <td>0</td>\n",
       "      <td>Graduate</td>\n",
       "      <td>No</td>\n",
       "      <td>6000</td>\n",
       "      <td>0.0</td>\n",
       "      <td>141.0</td>\n",
       "      <td>360.0</td>\n",
       "      <td>1.0</td>\n",
       "      <td>Urban</td>\n",
       "      <td>Y</td>\n",
       "    </tr>\n",
       "  </tbody>\n",
       "</table>\n",
       "</div>"
      ],
      "text/plain": [
       "    Loan_ID Gender Married Dependents     Education Self_Employed  \\\n",
       "0  LP001002   Male      No          0      Graduate            No   \n",
       "1  LP001003   Male     Yes          1      Graduate            No   \n",
       "2  LP001005   Male     Yes          0      Graduate           Yes   \n",
       "3  LP001006   Male     Yes          0  Not Graduate            No   \n",
       "4  LP001008   Male      No          0      Graduate            No   \n",
       "\n",
       "   ApplicantIncome  CoapplicantIncome  LoanAmount  Loan_Amount_Term  \\\n",
       "0             5849                0.0         NaN             360.0   \n",
       "1             4583             1508.0       128.0             360.0   \n",
       "2             3000                0.0        66.0             360.0   \n",
       "3             2583             2358.0       120.0             360.0   \n",
       "4             6000                0.0       141.0             360.0   \n",
       "\n",
       "   Credit_History Property_Area Loan_Status  \n",
       "0             1.0         Urban           Y  \n",
       "1             1.0         Rural           N  \n",
       "2             1.0         Urban           Y  \n",
       "3             1.0         Urban           Y  \n",
       "4             1.0         Urban           Y  "
      ]
     },
     "execution_count": 8,
     "metadata": {},
     "output_type": "execute_result"
    }
   ],
   "source": [
    "data.head()"
   ]
  },
  {
   "cell_type": "code",
   "execution_count": 9,
   "metadata": {},
   "outputs": [
    {
     "name": "stdout",
     "output_type": "stream",
     "text": [
      "<class 'pandas.core.frame.DataFrame'>\n",
      "RangeIndex: 614 entries, 0 to 613\n",
      "Data columns (total 13 columns):\n",
      "Loan_ID              614 non-null object\n",
      "Gender               601 non-null object\n",
      "Married              611 non-null object\n",
      "Dependents           599 non-null object\n",
      "Education            614 non-null object\n",
      "Self_Employed        582 non-null object\n",
      "ApplicantIncome      614 non-null int64\n",
      "CoapplicantIncome    614 non-null float64\n",
      "LoanAmount           592 non-null float64\n",
      "Loan_Amount_Term     600 non-null float64\n",
      "Credit_History       564 non-null float64\n",
      "Property_Area        614 non-null object\n",
      "Loan_Status          614 non-null object\n",
      "dtypes: float64(4), int64(1), object(8)\n",
      "memory usage: 62.4+ KB\n"
     ]
    }
   ],
   "source": [
    "data.info()"
   ]
  },
  {
   "cell_type": "markdown",
   "metadata": {},
   "source": [
    "Some of the columns have missing data in them. However, since over 95% of the data is availabe, \n",
    "let us start with some initial hypotheses."
   ]
  },
  {
   "cell_type": "markdown",
   "metadata": {},
   "source": [
    "A statistical summary of the numerical variables computed below."
   ]
  },
  {
   "cell_type": "code",
   "execution_count": 28,
   "metadata": {},
   "outputs": [
    {
     "data": {
      "text/html": [
       "<div>\n",
       "<style scoped>\n",
       "    .dataframe tbody tr th:only-of-type {\n",
       "        vertical-align: middle;\n",
       "    }\n",
       "\n",
       "    .dataframe tbody tr th {\n",
       "        vertical-align: top;\n",
       "    }\n",
       "\n",
       "    .dataframe thead th {\n",
       "        text-align: right;\n",
       "    }\n",
       "</style>\n",
       "<table border=\"1\" class=\"dataframe\">\n",
       "  <thead>\n",
       "    <tr style=\"text-align: right;\">\n",
       "      <th></th>\n",
       "      <th>ApplicantIncome</th>\n",
       "      <th>CoapplicantIncome</th>\n",
       "      <th>LoanAmount</th>\n",
       "      <th>Loan_Amount_Term</th>\n",
       "      <th>Credit_History</th>\n",
       "    </tr>\n",
       "  </thead>\n",
       "  <tbody>\n",
       "    <tr>\n",
       "      <th>count</th>\n",
       "      <td>614.000000</td>\n",
       "      <td>614.000000</td>\n",
       "      <td>592.000000</td>\n",
       "      <td>600.00000</td>\n",
       "      <td>564.000000</td>\n",
       "    </tr>\n",
       "    <tr>\n",
       "      <th>mean</th>\n",
       "      <td>5403.459283</td>\n",
       "      <td>1621.245798</td>\n",
       "      <td>146.412162</td>\n",
       "      <td>342.00000</td>\n",
       "      <td>0.842199</td>\n",
       "    </tr>\n",
       "    <tr>\n",
       "      <th>std</th>\n",
       "      <td>6109.041673</td>\n",
       "      <td>2926.248369</td>\n",
       "      <td>85.587325</td>\n",
       "      <td>65.12041</td>\n",
       "      <td>0.364878</td>\n",
       "    </tr>\n",
       "    <tr>\n",
       "      <th>min</th>\n",
       "      <td>150.000000</td>\n",
       "      <td>0.000000</td>\n",
       "      <td>9.000000</td>\n",
       "      <td>12.00000</td>\n",
       "      <td>0.000000</td>\n",
       "    </tr>\n",
       "    <tr>\n",
       "      <th>25%</th>\n",
       "      <td>2877.500000</td>\n",
       "      <td>0.000000</td>\n",
       "      <td>100.000000</td>\n",
       "      <td>360.00000</td>\n",
       "      <td>1.000000</td>\n",
       "    </tr>\n",
       "    <tr>\n",
       "      <th>50%</th>\n",
       "      <td>3812.500000</td>\n",
       "      <td>1188.500000</td>\n",
       "      <td>128.000000</td>\n",
       "      <td>360.00000</td>\n",
       "      <td>1.000000</td>\n",
       "    </tr>\n",
       "    <tr>\n",
       "      <th>75%</th>\n",
       "      <td>5795.000000</td>\n",
       "      <td>2297.250000</td>\n",
       "      <td>168.000000</td>\n",
       "      <td>360.00000</td>\n",
       "      <td>1.000000</td>\n",
       "    </tr>\n",
       "    <tr>\n",
       "      <th>max</th>\n",
       "      <td>81000.000000</td>\n",
       "      <td>41667.000000</td>\n",
       "      <td>700.000000</td>\n",
       "      <td>480.00000</td>\n",
       "      <td>1.000000</td>\n",
       "    </tr>\n",
       "  </tbody>\n",
       "</table>\n",
       "</div>"
      ],
      "text/plain": [
       "       ApplicantIncome  CoapplicantIncome  LoanAmount  Loan_Amount_Term  \\\n",
       "count       614.000000         614.000000  592.000000         600.00000   \n",
       "mean       5403.459283        1621.245798  146.412162         342.00000   \n",
       "std        6109.041673        2926.248369   85.587325          65.12041   \n",
       "min         150.000000           0.000000    9.000000          12.00000   \n",
       "25%        2877.500000           0.000000  100.000000         360.00000   \n",
       "50%        3812.500000        1188.500000  128.000000         360.00000   \n",
       "75%        5795.000000        2297.250000  168.000000         360.00000   \n",
       "max       81000.000000       41667.000000  700.000000         480.00000   \n",
       "\n",
       "       Credit_History  \n",
       "count      564.000000  \n",
       "mean         0.842199  \n",
       "std          0.364878  \n",
       "min          0.000000  \n",
       "25%          1.000000  \n",
       "50%          1.000000  \n",
       "75%          1.000000  \n",
       "max          1.000000  "
      ]
     },
     "execution_count": 28,
     "metadata": {},
     "output_type": "execute_result"
    }
   ],
   "source": [
    "data.describe()"
   ]
  },
  {
   "cell_type": "markdown",
   "metadata": {},
   "source": [
    "Let us try to find the % of approved loans for males and females. Once we have results, let's see if we can\n",
    "come up with a hypotheses that indicates more approved loans for either men or women"
   ]
  },
  {
   "cell_type": "code",
   "execution_count": 29,
   "metadata": {},
   "outputs": [],
   "source": [
    "male_count = data['Gender'][data.Gender == 'Male'].count()\n",
    "women_count = data['Gender'][data.Gender == 'Female'].count()"
   ]
  },
  {
   "cell_type": "code",
   "execution_count": 30,
   "metadata": {},
   "outputs": [
    {
     "data": {
      "text/plain": [
       "489"
      ]
     },
     "execution_count": 30,
     "metadata": {},
     "output_type": "execute_result"
    }
   ],
   "source": [
    "male_count"
   ]
  },
  {
   "cell_type": "code",
   "execution_count": 31,
   "metadata": {},
   "outputs": [
    {
     "data": {
      "text/plain": [
       "112"
      ]
     },
     "execution_count": 31,
     "metadata": {},
     "output_type": "execute_result"
    }
   ],
   "source": [
    "women_count"
   ]
  },
  {
   "cell_type": "markdown",
   "metadata": {},
   "source": [
    "From our obervations above, it's easy to see that a majority of the laon applicants were males. Noe let us try and compute\n",
    "the % of approved loans for men and women"
   ]
  },
  {
   "cell_type": "code",
   "execution_count": 32,
   "metadata": {},
   "outputs": [
    {
     "data": {
      "text/plain": [
       "Gender    339\n",
       "dtype: int64"
      ]
     },
     "execution_count": 32,
     "metadata": {},
     "output_type": "execute_result"
    }
   ],
   "source": [
    "apprv_loans_male = data[(data.Gender == 'Male') & (data.Loan_Status == 'Y')]\n",
    "apprv_loans_male = apprv_loans_male[['Gender']].count()\n",
    "apprv_loans_male"
   ]
  },
  {
   "cell_type": "code",
   "execution_count": 33,
   "metadata": {},
   "outputs": [
    {
     "data": {
      "text/plain": [
       "Gender    75\n",
       "dtype: int64"
      ]
     },
     "execution_count": 33,
     "metadata": {},
     "output_type": "execute_result"
    }
   ],
   "source": [
    "apprv_loans_fem = data[(data.Gender == 'Female') & (data.Loan_Status == 'Y')]\n",
    "apprv_loans_fem = apprv_loans_fem[['Gender']].count()\n",
    "apprv_loans_fem"
   ]
  },
  {
   "cell_type": "code",
   "execution_count": 34,
   "metadata": {},
   "outputs": [],
   "source": [
    "pct_male_aprv = apprv_loans_male / male_count * 100\n",
    "pct_fem_aprv =  apprv_loans_fem / women_count * 100"
   ]
  },
  {
   "cell_type": "code",
   "execution_count": 35,
   "metadata": {},
   "outputs": [
    {
     "data": {
      "text/plain": [
       "Gender    69.325153\n",
       "dtype: float64"
      ]
     },
     "execution_count": 35,
     "metadata": {},
     "output_type": "execute_result"
    }
   ],
   "source": [
    "pct_male_aprv"
   ]
  },
  {
   "cell_type": "code",
   "execution_count": 36,
   "metadata": {},
   "outputs": [
    {
     "data": {
      "text/plain": [
       "Gender    66.964286\n",
       "dtype: float64"
      ]
     },
     "execution_count": 36,
     "metadata": {},
     "output_type": "execute_result"
    }
   ],
   "source": [
    "pct_fem_aprv"
   ]
  },
  {
   "cell_type": "code",
   "execution_count": 37,
   "metadata": {},
   "outputs": [],
   "source": [
    "list1 = [pct_male_aprv, pct_fem_aprv]\n",
    "list2 = ['Male', 'Female']\n",
    "z = pd.DataFrame(list1, list2)"
   ]
  },
  {
   "cell_type": "code",
   "execution_count": 60,
   "metadata": {},
   "outputs": [
    {
     "data": {
      "image/png": "[encoded data removed]",
      "text/plain": [
       "<Figure size 432x288 with 1 Axes>"
      ]
     },
     "metadata": {
      "needs_background": "light"
     },
     "output_type": "display_data"
    }
   ],
   "source": [
    "x = z.index\n",
    "y = round(z['Gender'],2) #Rounding off to two decimal digits\n",
    "plt.subplot(1,2,1) \n",
    "plt.bar(x,y, color = 'blue', width=0.1, align = 'center') #Plotted a bar graph\n",
    "plt.title('Approval rates for Males vs. Females', loc = 'center')\n",
    "\n",
    "for a,b in zip(x, y):\n",
    "    plt.text(a, b, str(b) + '%', ha='left', va ='baseline', fontsize = 15, fontstyle = 'oblique')\n",
    "plt.show()"
   ]
  },
  {
   "cell_type": "markdown",
   "metadata": {},
   "source": [
    "From the bar plot below, males do have a higher approval rate. However, the difference in percentage isn't significant enough \n",
    "to fully support our hypothesis."
   ]
  },
  {
   "cell_type": "markdown",
   "metadata": {},
   "source": [
    "Next, let us try to see of Graduates have a significantly higher approval rate compared to non-graduates."
   ]
  },
  {
   "cell_type": "code",
   "execution_count": 10,
   "metadata": {},
   "outputs": [],
   "source": [
    "apprv_loans_grad =    data[(data.Education == 'Graduate') & (data.Loan_Status == 'Y')] \n",
    "apprv_loans_notgrad = data[(data.Education == 'Not Graduate') & (data.Loan_Status == 'Y')]\n",
    "grads_aprv_count = len(apprv_loans_grad)\n",
    "notgrads_aprv_count = len(apprv_loans_notgrad)"
   ]
  },
  {
   "cell_type": "markdown",
   "metadata": {},
   "source": [
    "Now let us compute the percentages of loans approved for graduates and non-graduates"
   ]
  },
  {
   "cell_type": "code",
   "execution_count": 11,
   "metadata": {},
   "outputs": [],
   "source": [
    "grad_aprv_pct = grads_aprv_count / len(data.loc[data.Education == 'Graduate']) * 100\n",
    "notgrad_aprv_pct = notgrads_aprv_count / len(data.loc[data.Education == 'Graduate']) * 100"
   ]
  },
  {
   "cell_type": "code",
   "execution_count": 85,
   "metadata": {},
   "outputs": [
    {
     "data": {
      "image/png": "[encoded data removed]",
      "text/plain": [
       "<Figure size 432x288 with 2 Axes>"
      ]
     },
     "metadata": {
      "needs_background": "light"
     },
     "output_type": "display_data"
    }
   ],
   "source": [
    "list1 = [grad_aprv_pct, notgrad_aprv_pct]\n",
    "list2 = ['Graduate', 'Not_Graduate']\n",
    "z = pd.DataFrame(list1, list2) #Merged the lists into a DataFrame\n",
    "z.columns = ['percentage approved']\n",
    "x = z.index \n",
    "y = round(z['percentage approved'],2)\n",
    "#First subplot is for the percentage comparison\n",
    "plt.subplot(1,2,1)\n",
    "plt.bar(x,y, color = 'blue',width=0.1, align='center')\n",
    "plt.title('Approval rates for Graduates vs. Non graduates', fontsize=12)\n",
    "plt.xlim(0-0.6, 2-0.5) #Set xlimits to adjust the spacing between the par blots.\n",
    "for a,b in zip(x, y):\n",
    "    plt.text(a, b, str(b) + '%',ha='center', va ='baseline', fontsize = 12, fontstyle = 'oblique') #Outputs text above the bars.\n",
    "\n",
    "grad_count = len(data.loc[data.Education == 'Graduate'])\n",
    "notgrad_count = len(data.loc[data.Education != 'Graduate'])\n",
    "list_grad = [grad_count, notgrad_count]\n",
    "list_grad = pd.DataFrame(list_grad, index=['Graduates', 'Non-graduates'])\n",
    "list_grad.columns = ['Count']\n",
    "\n",
    "x = list_grad.index\n",
    "y = list_grad['Count']\n",
    "plt.subplot(1,2,2)\n",
    "#Second subplot is for comparing the counts of the number of graduates vs. non-graduates.\n",
    "plt.bar(x,y, color = 'blue', width=0.1)\n",
    "plt.xlim(0-0.6, 2-0.2)\n",
    "plt.title('Count of Graduates vs. Non graduates', fontsize = 12)\n",
    "\n",
    "for a,b in zip(x, y):\n",
    "    plt.text(a, b, str(b) , ha='center', va ='baseline', fontsize = 12, fontstyle = 'oblique')\n",
    "plt.subplots_adjust(left=1, bottom=None, right=3)\n",
    "plt.tight_layout\n",
    "plt.show()\n"
   ]
  },
  {
   "cell_type": "markdown",
   "metadata": {},
   "source": [
    "From the first bar plot above, we see that graudates have a ~10% higher approval rate in comparison to non-graduates. From the second plot above, we see that non-graduates are significant in number and hence, we could aruge that our hypothesis could be true.If the number of non-graduates were too few in number as compared to graduates, then we can cannot confidently support our hypothesis as there simply aren't enough samples. "
   ]
  },
  {
   "cell_type": "markdown",
   "metadata": {},
   "source": [
    "<font color=red>**If there are an insignificant number of non-graduates in comparison to graduates or vice-versa, then we might have to consider rejecting the hypothesis as there aren’t enough samples to support our hypothesis. [Note: This process will be followed for evaluating the other variables as well.]**</font>"
   ]
  },
  {
   "cell_type": "markdown",
   "metadata": {},
   "source": [
    "Next, let us consider the property area."
   ]
  },
  {
   "cell_type": "code",
   "execution_count": 87,
   "metadata": {},
   "outputs": [],
   "source": [
    "urban_aprv = data[(data.Property_Area == 'Urban') & (data.Loan_Status == 'Y')] #Approved urban property lons\n",
    "rural_aprv = data[(data.Property_Area == 'Rural') & (data.Loan_Status == 'Y')] #Approved rural property lons\n",
    "semi_ur_aprv = data[(data.Property_Area == 'Semiurban') & (data.Loan_Status == 'Y')] #Approved semiurban property lons"
   ]
  },
  {
   "cell_type": "code",
   "execution_count": 88,
   "metadata": {},
   "outputs": [],
   "source": [
    "pct_urb_aprv = len(urban_aprv) / len(data.loc[data.Property_Area == 'Urban']) * 100 #percentage of urban property loans approved\n",
    "pct_rur_aprv = len(rural_aprv) / len(data.loc[data.Property_Area == 'Rural']) * 100 #percentage of rural property loans approved\n",
    "pct_su_aprv = len(semi_ur_aprv) / len(data.loc[data.Property_Area == 'Semiurban']) * 100 #percentage of semiurban propert loans approved"
   ]
  },
  {
   "cell_type": "code",
   "execution_count": 89,
   "metadata": {},
   "outputs": [],
   "source": [
    "z = pd.DataFrame([pct_urb_aprv, pct_rur_aprv , pct_su_aprv],['Urban', 'Rural', 'Semiurban'])\n",
    "z.columns = ['percentage approved']\n"
   ]
  },
  {
   "cell_type": "code",
   "execution_count": 91,
   "metadata": {},
   "outputs": [
    {
     "data": {
      "image/png": "[encoded data removed]",
      "text/plain": [
       "<Figure size 432x288 with 2 Axes>"
      ]
     },
     "metadata": {
      "needs_background": "light"
     },
     "output_type": "display_data"
    }
   ],
   "source": [
    "x = z.index\n",
    "y = round(z['percentage approved'],2)\n",
    "#First subplot is for the percentages of loans approved by property.\n",
    "plt.subplot(1,2,1)\n",
    "plt.bar(x,y, color = 'blue', width=0.1)\n",
    "plt.title('Approval rates for types of properties')\n",
    "\n",
    "for a,b in zip(x, y):\n",
    "    plt.text(a, b, str(b) + '%', ha='center', va ='baseline', fontsize = 13, fontstyle = 'oblique')\n",
    "\n",
    "#Next, let us consider the type of property for which the loan was requested.\n",
    "urban_count = len(data.loc[data.Property_Area == 'Urban'])\n",
    "rural_count = len(data.loc[data.Property_Area == 'Rural'])\n",
    "s_urban_count = len(data.loc[data.Property_Area == 'Semiurban'])\n",
    "list_prop = [urban_count, rural_count, s_urban_count]\n",
    "list_prop = pd.DataFrame(list_prop, index=['Urban', 'Rural', 'Semiurban'])\n",
    "list_prop.columns = ['Count']\n",
    "\n",
    "x = list_prop.index\n",
    "y = list_prop['Count']\n",
    "#Second subplot is for the count of loans requested for each property type.\n",
    "plt.subplot(1,2,2)\n",
    "plt.bar(x,y, color = 'blue', width=0.1)\n",
    "plt.title('Count of the various property types')\n",
    "\n",
    "for a,b in zip(x, y):\n",
    "    plt.text(a, b, str(b) , ha='center', va ='baseline', fontsize = 13, fontstyle = 'oblique')\n",
    "plt.subplots_adjust(left=1, bottom=None, right=3)\n",
    "plt.show()"
   ]
  },
  {
   "cell_type": "markdown",
   "metadata": {},
   "source": [
    "From the graph below, we can see a significant number of samples for each of the property types. Hence,\n",
    "we could argue that our hypothesis holds good for now."
   ]
  },
  {
   "cell_type": "code",
   "execution_count": 92,
   "metadata": {},
   "outputs": [],
   "source": [
    "#Let us consider the approval rates for people with credit vs. those with no credit.\n",
    "cred_0_aprv = data[(data.Credit_History == 0.0) & (data.Loan_Status == 'Y')] #People with credit_history 0.0 and approved"
   ]
  },
  {
   "cell_type": "code",
   "execution_count": 94,
   "metadata": {},
   "outputs": [],
   "source": [
    "cred_1_aprv = data[(data.Credit_History == 1.0) & (data.Loan_Status == 'Y')] #People with credit_history 0.0 and approved"
   ]
  },
  {
   "cell_type": "code",
   "execution_count": 95,
   "metadata": {},
   "outputs": [],
   "source": [
    "pct_cred_0 = len(cred_0_aprv) / len(data.loc[data.Credit_History == 0.0]) * 100\n",
    "pct_cred_1 = len(cred_1_aprv) / len(data.loc[data.Credit_History == 1.0]) * 100"
   ]
  },
  {
   "cell_type": "code",
   "execution_count": 96,
   "metadata": {},
   "outputs": [],
   "source": [
    "z = pd.DataFrame([pct_cred_0, pct_cred_1], ['Credit_0', 'Credit_1'])\n",
    "z.columns = ['% approved']\n",
    "z = z.sort_values(by = '% approved',ascending=False)"
   ]
  },
  {
   "cell_type": "code",
   "execution_count": 101,
   "metadata": {},
   "outputs": [
    {
     "data": {
      "image/png": "[encoded data removed]",
      "text/plain": [
       "<Figure size 432x288 with 2 Axes>"
      ]
     },
     "metadata": {
      "needs_background": "light"
     },
     "output_type": "display_data"
    }
   ],
   "source": [
    "x = z.index\n",
    "y = round(z['% approved'],2)\n",
    "plt.xlim(0-0.6, 2-0.2)\n",
    "axes = plt.gca()\n",
    "axes.set_ylim([0,85])\n",
    "plt.subplot(1,2,1)\n",
    "plt.bar(x,y, color = 'blue', width=0.1)\n",
    "plt.xlim(0-0.6, 2-0.2)\n",
    "plt.title('Approval rates for those with credit vs. no credit')\n",
    "\n",
    "for a,b in zip(x, y):\n",
    "    plt.text(a, b, str(b) + '%', ha='center', va ='baseline', fontsize = 15, fontstyle = 'oblique')\n",
    "\n",
    "#From the graph below, it appears that people with credit are 10 times more likely to get approvd than those without credit.\n",
    "\n",
    "#Let us also account for the number of people with credit vs those without credit in the train file.\n",
    "cred_count = len(data.loc[data.Credit_History == 1.0])\n",
    "no_cred_count = len(data.loc[data.Credit_History != 1.0])\n",
    "list_cred = [cred_count, no_cred_count]\n",
    "list_cred = pd.DataFrame(list_cred, index=['Have_credit', 'No_credit'])\n",
    "list_cred.columns = ['Count']\n",
    "\n",
    "x = list_cred.index\n",
    "y = list_cred['Count']\n",
    "plt.subplot(1,2,2)\n",
    "plt.bar(x,y, color = 'blue', width=0.1)\n",
    "plt.xlim(0-0.6, 2-0.2)\n",
    "plt.title('Count of Applicants with credit vs. no credit')\n",
    "\n",
    "for a,b in zip(x, y):\n",
    "    plt.text(a, b, str(b) , ha='center', va ='baseline', fontsize = 13, fontstyle = 'oblique')\n",
    "plt.subplots_adjust(left=1, bottom=None, right=3)\n",
    "plt.show()"
   ]
  },
  {
   "cell_type": "markdown",
   "metadata": {},
   "source": [
    "Since there are a significant number of employees with no credit, we could argue that our hypothesis hold true."
   ]
  },
  {
   "cell_type": "markdown",
   "metadata": {},
   "source": [
    "Now, let us investigate how loan amounts vary with applicant incomes."
   ]
  },
  {
   "cell_type": "code",
   "execution_count": 39,
   "metadata": {},
   "outputs": [
    {
     "data": {
      "text/plain": [
       "(0, 90000)"
      ]
     },
     "execution_count": 39,
     "metadata": {},
     "output_type": "execute_result"
    },
    {
     "data": {
      "image/png": "[encoded data removed]",
      "text/plain": [
       "<Figure size 432x288 with 1 Axes>"
      ]
     },
     "metadata": {
      "needs_background": "light"
     },
     "output_type": "display_data"
    }
   ],
   "source": [
    "data.plot(kind = 'scatter', x='ApplicantIncome', y = 'LoanAmount', title = 'Loan Amount variation vs. applicant income', s=2.5)\n",
    "plt.xlim([0,90000])"
   ]
  },
  {
   "cell_type": "markdown",
   "metadata": {},
   "source": [
    "From the plot above, there's not enough evidence to suggest that applicants with greater incomes apply for larger loan amounts. \n",
    "However, there are many data points that are spread out diversely. As a result, there's no solid pattern to suggest that\n",
    "applicants with greater incomes request for greater loan amounts."
   ]
  },
  {
   "cell_type": "code",
   "execution_count": null,
   "metadata": {},
   "outputs": [],
   "source": []
  },
  {
   "cell_type": "markdown",
   "metadata": {},
   "source": [
    "Let's explore the distributions of the applicant incomes"
   ]
  },
  {
   "cell_type": "code",
   "execution_count": 334,
   "metadata": {},
   "outputs": [
    {
     "data": {
      "text/plain": [
       "<matplotlib.axes._subplots.AxesSubplot at 0x231584019e8>"
      ]
     },
     "execution_count": 334,
     "metadata": {},
     "output_type": "execute_result"
    },
    {
     "data": {
      "image/png": "[encoded data removed]",
      "text/plain": [
       "<Figure size 432x288 with 1 Axes>"
      ]
     },
     "metadata": {
      "needs_background": "light"
     },
     "output_type": "display_data"
    }
   ],
   "source": [
    "data['ApplicantIncome'].plot(kind = 'hist', bins =35, color = 'blue', title = 'Plot of distribution of Applicant incomes')"
   ]
  },
  {
   "cell_type": "markdown",
   "metadata": {},
   "source": [
    "A majority of the applicants have an income between $2500 and $5000. In fact, they make up more than 50% of the\n",
    "applicants."
   ]
  },
  {
   "cell_type": "code",
   "execution_count": null,
   "metadata": {},
   "outputs": [],
   "source": []
  },
  {
   "cell_type": "markdown",
   "metadata": {},
   "source": [
    "Next, let us consider the distribution of the loan amounts requested."
   ]
  },
  {
   "cell_type": "code",
   "execution_count": 332,
   "metadata": {},
   "outputs": [
    {
     "data": {
      "text/plain": [
       "<matplotlib.axes._subplots.AxesSubplot at 0x23157f0a160>"
      ]
     },
     "execution_count": 332,
     "metadata": {},
     "output_type": "execute_result"
    },
    {
     "data": {
      "image/png": "[encoded data removed]",
      "text/plain": [
       "<Figure size 432x288 with 1 Axes>"
      ]
     },
     "metadata": {
      "needs_background": "light"
     },
     "output_type": "display_data"
    }
   ],
   "source": [
    "data['LoanAmount'].plot(kind = 'hist', color='blue',bins=30, title = 'Plot of the distribution of loan amounts')"
   ]
  },
  {
   "cell_type": "markdown",
   "metadata": {},
   "source": [
    "From the graph above, a vast majority of the applicants opt for loans that amount to 200 or less. However, we can see that \n",
    "this dataset has quite a few outliers."
   ]
  }
 ],
 "metadata": {
  "kernelspec": {
   "display_name": "py3",
   "language": "python",
   "name": "py3"
  },
  "language_info": {
   "codemirror_mode": {
    "name": "ipython",
    "version": 3
   },
   "file_extension": ".py",
   "mimetype": "text/x-python",
   "name": "python",
   "nbconvert_exporter": "python",
   "pygments_lexer": "ipython3",
   "version": "3.7.0"
  }
 },
 "nbformat": 4,
 "nbformat_minor": 2
}
