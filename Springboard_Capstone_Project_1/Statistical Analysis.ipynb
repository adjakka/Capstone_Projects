{
 "cells": [
  {
   "cell_type": "code",
   "execution_count": 43,
   "metadata": {},
   "outputs": [],
   "source": [
    "import numpy as np\n",
    "import pandas as pd\n",
    "import matplotlib.pyplot as plt\n",
    "import seaborn as sns\n",
    "from scipy.stats import ttest_ind\n",
    "sns.set()"
   ]
  },
  {
   "cell_type": "code",
   "execution_count": 2,
   "metadata": {},
   "outputs": [],
   "source": [
    "df = pd.read_csv('C:\\Springboard Capstone Projects\\Springboard_Capstone\\Springboard_Capstone_Projects\\Springboard_Capstone_Project_1\\Data\\\\cleandata.csv')"
   ]
  },
  {
   "cell_type": "code",
   "execution_count": 3,
   "metadata": {},
   "outputs": [
    {
     "data": {
      "text/html": [
       "<div>\n",
       "<style scoped>\n",
       "    .dataframe tbody tr th:only-of-type {\n",
       "        vertical-align: middle;\n",
       "    }\n",
       "\n",
       "    .dataframe tbody tr th {\n",
       "        vertical-align: top;\n",
       "    }\n",
       "\n",
       "    .dataframe thead th {\n",
       "        text-align: right;\n",
       "    }\n",
       "</style>\n",
       "<table border=\"1\" class=\"dataframe\">\n",
       "  <thead>\n",
       "    <tr style=\"text-align: right;\">\n",
       "      <th></th>\n",
       "      <th>Unnamed: 0</th>\n",
       "      <th>Loan_ID</th>\n",
       "      <th>Gender</th>\n",
       "      <th>Married</th>\n",
       "      <th>Dependents</th>\n",
       "      <th>Education</th>\n",
       "      <th>Self_Employed</th>\n",
       "      <th>ApplicantIncome</th>\n",
       "      <th>CoapplicantIncome</th>\n",
       "      <th>LoanAmount</th>\n",
       "      <th>Loan_Amount_Term</th>\n",
       "      <th>Credit_History</th>\n",
       "      <th>Property_Area</th>\n",
       "      <th>Loan_Status</th>\n",
       "    </tr>\n",
       "  </thead>\n",
       "  <tbody>\n",
       "    <tr>\n",
       "      <th>0</th>\n",
       "      <td>0</td>\n",
       "      <td>LP001002</td>\n",
       "      <td>Male</td>\n",
       "      <td>No</td>\n",
       "      <td>0</td>\n",
       "      <td>Graduate</td>\n",
       "      <td>No</td>\n",
       "      <td>5849</td>\n",
       "      <td>0.0</td>\n",
       "      <td>146.412162</td>\n",
       "      <td>360.0</td>\n",
       "      <td>1.0</td>\n",
       "      <td>Urban</td>\n",
       "      <td>Y</td>\n",
       "    </tr>\n",
       "    <tr>\n",
       "      <th>1</th>\n",
       "      <td>1</td>\n",
       "      <td>LP001003</td>\n",
       "      <td>Male</td>\n",
       "      <td>Yes</td>\n",
       "      <td>1</td>\n",
       "      <td>Graduate</td>\n",
       "      <td>No</td>\n",
       "      <td>4583</td>\n",
       "      <td>1508.0</td>\n",
       "      <td>128.000000</td>\n",
       "      <td>360.0</td>\n",
       "      <td>1.0</td>\n",
       "      <td>Rural</td>\n",
       "      <td>N</td>\n",
       "    </tr>\n",
       "    <tr>\n",
       "      <th>2</th>\n",
       "      <td>2</td>\n",
       "      <td>LP001005</td>\n",
       "      <td>Male</td>\n",
       "      <td>Yes</td>\n",
       "      <td>0</td>\n",
       "      <td>Graduate</td>\n",
       "      <td>Yes</td>\n",
       "      <td>3000</td>\n",
       "      <td>0.0</td>\n",
       "      <td>66.000000</td>\n",
       "      <td>360.0</td>\n",
       "      <td>1.0</td>\n",
       "      <td>Urban</td>\n",
       "      <td>Y</td>\n",
       "    </tr>\n",
       "  </tbody>\n",
       "</table>\n",
       "</div>"
      ],
      "text/plain": [
       "   Unnamed: 0   Loan_ID Gender Married  Dependents Education Self_Employed  \\\n",
       "0           0  LP001002   Male      No           0  Graduate            No   \n",
       "1           1  LP001003   Male     Yes           1  Graduate            No   \n",
       "2           2  LP001005   Male     Yes           0  Graduate           Yes   \n",
       "\n",
       "   ApplicantIncome  CoapplicantIncome  LoanAmount  Loan_Amount_Term  \\\n",
       "0             5849                0.0  146.412162             360.0   \n",
       "1             4583             1508.0  128.000000             360.0   \n",
       "2             3000                0.0   66.000000             360.0   \n",
       "\n",
       "   Credit_History Property_Area Loan_Status  \n",
       "0             1.0         Urban           Y  \n",
       "1             1.0         Rural           N  \n",
       "2             1.0         Urban           Y  "
      ]
     },
     "execution_count": 3,
     "metadata": {},
     "output_type": "execute_result"
    }
   ],
   "source": [
    "df.head(3)"
   ]
  },
  {
   "cell_type": "markdown",
   "metadata": {},
   "source": [
    "# Hypothesis testing and p-values"
   ]
  },
  {
   "cell_type": "markdown",
   "metadata": {},
   "source": [
    "A statistical hypothesis, sometimes called confirmatory data analysis, is an hypothesis that is testable on the basis of observing a process that is modeled via a set of random variables. A statistical hypothesis test is a method of statistical inference. Commonly, two statistical data sets are compared, or a data set obtained by sampling is compared against a synthetic data set from an idealized model. A hypothesis is proposed for the statistical relationship between the two data sets, and this is compared as an alternative to an idealized null hypothesis that proposes no relationship between two data sets. The comparison is deemed statistically significant if the relationship between the data sets would be an unlikely realization of the null hypothesis according to a threshold probability—the significance level. Hypothesis tests are used in determining what outcomes of a study would lead to a rejection of the null hypothesis for a pre-specified level of significance.\n",
    "\n",
    "[Source](https://en.wikipedia.org/wiki/Statistical_hypothesis_testing)                                                                                                 "
   ]
  },
  {
   "cell_type": "markdown",
   "metadata": {},
   "source": [
    "The p-value is the level of marginal significance within a statistical hypothesis test representing the probability of the occurrence of a given event. The p-value is used as an alternative to rejection points to provide the smallest level of significance at which the null hypothesis would be rejected. A smaller p-value means that there is stronger evidence in favor of the alternative hypothesis.\n",
    "\n",
    "[Source](https://www.investopedia.com/terms/p/p-value.asp)  "
   ]
  },
  {
   "cell_type": "markdown",
   "metadata": {},
   "source": [
    "**Our p-value is set in adavance i.e we before we begin our hypothesis testing. If we set a p-value of 5% (0.05), and we get a p-value less than 0.05, this would mean that this data point will not be within the 95% confidence interval. Let us try to visalize this**\n",
    "\n",
    "![](https://drive.google.com/uc?id=1BfaS56ehqerGMD79BCUUyhPzH5CEe6_B)"
   ]
  },
  {
   "cell_type": "markdown",
   "metadata": {},
   "source": [
    "**If we have a p-value greater than 0.05, then it lies in the green area. Else, it would lie in the white area (indicated by the area of the two tails \"0.025\", which accounts for the total probability of 5%**"
   ]
  },
  {
   "cell_type": "markdown",
   "metadata": {},
   "source": [
    "**In layman terms, if we find the level of significance of our test to be less than 5% (or whatever hypothesis level we set), this would indicate a very rare event and one that didn't happen by random chance alone.**"
   ]
  },
  {
   "cell_type": "markdown",
   "metadata": {},
   "source": [
    "**For our tests, let us set the level of significane to 0.05 or 5%**"
   ]
  },
  {
   "cell_type": "markdown",
   "metadata": {},
   "source": [
    "#                                             2-Sample t-tests"
   ]
  },
  {
   "cell_type": "markdown",
   "metadata": {},
   "source": [
    "Two-sample hypothesis testing is statistical analysis designed to test if there is a difference between two means from two different populations. The two-sample t-test is one of the most commonly used hypothesis tests to compare whether the average difference between two groups is really significant or if it is due instead to random chance.\n",
    "\n",
    "The null hypothesis herewould be that there is no significant difference between the means of the populations and any difference observed is due to random chance. The alternative hypothesis would be that there is indeed a significant difference in means between the two distributions.\n",
    "\n",
    "[Khan Academy explanation](https://www.khanacademy.org/math/statistics-probability/significance-tests-confidence-intervals-two-samples/comparing-two-means/v/hypothesis-test-for-difference-of-means)  "
   ]
  },
  {
   "cell_type": "markdown",
   "metadata": {},
   "source": [
    "# Pearson Correlation Coefficient (r)"
   ]
  },
  {
   "cell_type": "markdown",
   "metadata": {},
   "source": [
    "The Pearson correlation coefficient, r, can take a range of values from +1 to -1. A value of 0 indicates that there is no association between the two variables. A value greater than 0 indicates a positive association; that is, as the value of one variable increases, so does the value of the other variable. Conersely, a negative value indicates that if one of the variables increases in value, the other decreases. The formula is displayed below:\n",
    "\n",
    "![](https://www.onlinemath4all.com/images/xpearsoncorrelation1.png.pagespeed.ic.KtrFAHskGq.png)\n",
    "\n",
    "Cov(x,y) represents the covariance of x and y. Sx and Sy represent the standard deviations of x and y respectively. The pearson correlation, r is a dimentionless quantity.\n",
    "\n",
    "For more on Pearson correlation coefficient, please follow this [link](https://www.youtube.com/watch?v=Lc6nUWVdxIE) "
   ]
  },
  {
   "cell_type": "code",
   "execution_count": 5,
   "metadata": {},
   "outputs": [],
   "source": [
    "df1 = df"
   ]
  },
  {
   "cell_type": "code",
   "execution_count": 6,
   "metadata": {},
   "outputs": [],
   "source": [
    "def set_loan_var_as_num(x):\n",
    "    if x == 'Y':\n",
    "        return 1\n",
    "    else:\n",
    "        return 0    "
   ]
  },
  {
   "cell_type": "code",
   "execution_count": 7,
   "metadata": {},
   "outputs": [],
   "source": [
    "df1['New_Loan_Status'] = df1['Loan_Status'].apply(set_loan_var_as_num)"
   ]
  },
  {
   "cell_type": "markdown",
   "metadata": {},
   "source": [
    "**Now that we have our new variable New_Loan_Status which is represented by '1' for loans approved and a '0' for loans denied, lets begin our hupothesis testing**"
   ]
  },
  {
   "cell_type": "markdown",
   "metadata": {},
   "source": [
    "**H0 : There is no significant difference between males and females in terms of loan approvals**`"
   ]
  },
  {
   "cell_type": "markdown",
   "metadata": {},
   "source": [
    "**H1 : There is a significant difference between males and females in terms of loan approvals**"
   ]
  },
  {
   "cell_type": "code",
   "execution_count": 8,
   "metadata": {},
   "outputs": [],
   "source": [
    "df1_males = df1['New_Loan_Status'].loc[df1.Gender == 'Male']\n",
    "df1_females = df1['New_Loan_Status'].loc[df1.Gender == 'Female']"
   ]
  },
  {
   "cell_type": "code",
   "execution_count": 9,
   "metadata": {},
   "outputs": [],
   "source": [
    "t_stat, p_val = ttest_ind(df1_males, df1_females)"
   ]
  },
  {
   "cell_type": "code",
   "execution_count": 64,
   "metadata": {},
   "outputs": [
    {
     "data": {
      "text/plain": [
       "0.4860860523233649"
      ]
     },
     "execution_count": 64,
     "metadata": {},
     "output_type": "execute_result"
    }
   ],
   "source": [
    "t_stat"
   ]
  },
  {
   "cell_type": "code",
   "execution_count": 65,
   "metadata": {},
   "outputs": [
    {
     "data": {
      "text/plain": [
       "0.6270839280455408"
      ]
     },
     "execution_count": 65,
     "metadata": {},
     "output_type": "execute_result"
    }
   ],
   "source": [
    "p_val"
   ]
  },
  {
   "cell_type": "markdown",
   "metadata": {},
   "source": [
    "**Our p-value of 0.627 is much greater than the set level of 0.05. Hence, we cannot reject our hypothesis as our test doesn't indicate that gender is an influencing factor.**"
   ]
  },
  {
   "cell_type": "code",
   "execution_count": 10,
   "metadata": {},
   "outputs": [],
   "source": [
    "def ecdf(data):\n",
    "    \"\"\"Compute ECDF for a one-dimensional array of measurements.\"\"\"\n",
    "    # Number of data points: n\n",
    "    n = len(data)\n",
    "\n",
    "    # x-data for the ECDF: x\n",
    "    x = np.sort(data)\n",
    "\n",
    "    # y-data for the ECDF: y\n",
    "    y = np.arange(1, n+1) / n\n",
    "\n",
    "    return x, y"
   ]
  },
  {
   "cell_type": "code",
   "execution_count": 11,
   "metadata": {},
   "outputs": [],
   "source": [
    "def bootstrap_replicate_1d(data, func):\n",
    "    return func(np.random.choice(data, size=len(data)))\n",
    "\n",
    "#Function to calculate bootstrap replicates.\n",
    "def draw_bs_reps(data, func, size=1):\n",
    "    \"\"\"Draw bootstrap replicates.\"\"\"\n",
    "\n",
    "    # Initialize array of replicates: bs_replicates\n",
    "    bs_replicates = np.empty(size)\n",
    "\n",
    "    # Generate replicates\n",
    "    for i in range(size):\n",
    "        bs_replicates[i] = bootstrap_replicate_1d(data, func)\n",
    "        \n",
    "    return bs_replicates"
   ]
  },
  {
   "cell_type": "markdown",
   "metadata": {},
   "source": [
    "**During our initial hypothesis, we found out that semi-urban areas had a higher loan approval rate in comparison to urban and rural areas. Let us do a significance test for the same.**"
   ]
  },
  {
   "cell_type": "markdown",
   "metadata": {},
   "source": [
    "**H0: There is no significant difference between loan approvals for semi-urban and rural areas**"
   ]
  },
  {
   "cell_type": "markdown",
   "metadata": {},
   "source": [
    "**H1: There is a significant difference between loan approvals for semi-urban and rural areas.**"
   ]
  },
  {
   "cell_type": "code",
   "execution_count": 12,
   "metadata": {},
   "outputs": [],
   "source": [
    "df_su = df1['New_Loan_Status'].loc[df1.Property_Area == 'Semiurban']\n",
    "df_rur = df1['New_Loan_Status'].loc[df1.Property_Area == 'Rural']"
   ]
  },
  {
   "cell_type": "code",
   "execution_count": 76,
   "metadata": {},
   "outputs": [],
   "source": [
    "t_stat, p = ttest_ind(df_su, df_rur)"
   ]
  },
  {
   "cell_type": "code",
   "execution_count": 77,
   "metadata": {},
   "outputs": [
    {
     "data": {
      "text/plain": [
       "3.419138850554969"
      ]
     },
     "execution_count": 77,
     "metadata": {},
     "output_type": "execute_result"
    }
   ],
   "source": [
    "t_stat"
   ]
  },
  {
   "cell_type": "code",
   "execution_count": 78,
   "metadata": {},
   "outputs": [
    {
     "data": {
      "text/plain": [
       "0.0006911381301584281"
      ]
     },
     "execution_count": 78,
     "metadata": {},
     "output_type": "execute_result"
    }
   ],
   "source": [
    "p"
   ]
  },
  {
   "cell_type": "markdown",
   "metadata": {},
   "source": [
    "**The small p-value above indicates that property type does matter when granting loan approvals. Hence, this wasn't due to random chance.**"
   ]
  },
  {
   "cell_type": "code",
   "execution_count": 13,
   "metadata": {},
   "outputs": [],
   "source": [
    "df_urb = df1['New_Loan_Status'].loc[df1.Property_Area == 'Urban']"
   ]
  },
  {
   "cell_type": "markdown",
   "metadata": {},
   "source": [
    "**Next, let us generate bootstrap replicates of the loan approvals for the different property areas and visualize their mean and distributions.**"
   ]
  },
  {
   "cell_type": "code",
   "execution_count": 14,
   "metadata": {},
   "outputs": [],
   "source": [
    "df_su_reps = draw_bs_reps(df_su, np.mean, size=10000)\n",
    "df_ru_reps = draw_bs_reps(df_rur, np.mean, size=10000)\n",
    "df_ur_reps = draw_bs_reps(df_urb, np.mean, size=10000)"
   ]
  },
  {
   "cell_type": "markdown",
   "metadata": {},
   "source": [
    "**We now calculate the empirical cdfs of the the generated bootstrap replicates.**"
   ]
  },
  {
   "cell_type": "code",
   "execution_count": 15,
   "metadata": {},
   "outputs": [],
   "source": [
    "x_su, y_su = ecdf(df_su_reps)\n",
    "x_ru, y_ru = ecdf(df_ru_reps)\n",
    "x_ur, y_ur = ecdf(df_ur_reps )"
   ]
  },
  {
   "cell_type": "markdown",
   "metadata": {},
   "source": [
    "**Now, we plot the ECDFs of the bootstrap replicates.**"
   ]
  },
  {
   "cell_type": "code",
   "execution_count": 39,
   "metadata": {},
   "outputs": [
    {
     "data": {
      "text/plain": [
       "Text(0.68,0.4,'65.82 % avg.')"
      ]
     },
     "execution_count": 39,
     "metadata": {},
     "output_type": "execute_result"
    },
    {
     "data": {
      "image/png": "[encoded data removed]",
      "text/plain": [
       "<Figure size 432x288 with 1 Axes>"
      ]
     },
     "metadata": {
      "needs_background": "light"
     },
     "output_type": "display_data"
    }
   ],
   "source": [
    "plt.plot(x_su, y_su, marker = '.', linestyle = 'none')\n",
    "plt.plot(x_ru, y_ru, marker = '.', linestyle = 'none')\n",
    "plt.plot(x_ur, y_ur, marker = '.', linestyle = 'none')\n",
    "plt.legend(('Semiurban', 'Rural', 'Urban'), loc = 'upper left')\n",
    "plt.xlabel('Property_Area')\n",
    "plt.ylabel('ECDF')\n",
    "plt.title('Plot of the mean distributions of the Property types')\n",
    "plt.annotate(str(round(np.mean(df_ru_reps)*100,2)) + ' % avg.', xy=(np.mean(df_ru_reps), 0.5), xytext=(0.50, 0.70),arrowprops=dict(facecolor='black', shrink=0.01),\n",
    "            )\n",
    "plt.annotate(str(round(np.mean(df_su_reps)*100,2)) + ' % avg.', xy=(np.mean(df_su_reps), 0.5), xytext=(0.82, 0.75),arrowprops=dict(facecolor='black', shrink=0.01),\n",
    "            )\n",
    "plt.annotate(str(round(np.mean(df_ur_reps)*100,2)) + ' % avg.', xy=(np.mean(df_ur_reps), 0.5), xytext=(0.68, 0.40),arrowprops=dict(facecolor='black', shrink=0.01),\n",
    "            )"
   ]
  },
  {
   "cell_type": "markdown",
   "metadata": {},
   "source": [
    "**Next, let us try and determine if graduates have a higher loan approval rate as compared to non-graduates.**"
   ]
  },
  {
   "cell_type": "markdown",
   "metadata": {},
   "source": [
    "**H0: Graduates and non-graduates have an almost equal chance of having their loan approved.**"
   ]
  },
  {
   "cell_type": "markdown",
   "metadata": {},
   "source": [
    "**H1: Graduates and non-graduates have an almost equal chance of having their loan approved.**"
   ]
  },
  {
   "cell_type": "code",
   "execution_count": 16,
   "metadata": {},
   "outputs": [],
   "source": [
    "df1_grad = df1['New_Loan_Status'].loc[df1.Education == 'Graduate']\n",
    "df1_notgrad = df1['New_Loan_Status'].loc[df1.Education != 'Graduate']"
   ]
  },
  {
   "cell_type": "code",
   "execution_count": 28,
   "metadata": {},
   "outputs": [],
   "source": [
    "t_stat, p_val = ttest_ind(df1_grad, df1_notgrad)"
   ]
  },
  {
   "cell_type": "code",
   "execution_count": 29,
   "metadata": {},
   "outputs": [
    {
     "data": {
      "text/plain": [
       "2.132530087910069"
      ]
     },
     "execution_count": 29,
     "metadata": {},
     "output_type": "execute_result"
    }
   ],
   "source": [
    "t_stat"
   ]
  },
  {
   "cell_type": "code",
   "execution_count": 30,
   "metadata": {},
   "outputs": [
    {
     "data": {
      "text/plain": [
       "0.03336067753728449"
      ]
     },
     "execution_count": 30,
     "metadata": {},
     "output_type": "execute_result"
    }
   ],
   "source": [
    "p_val"
   ]
  },
  {
   "cell_type": "markdown",
   "metadata": {},
   "source": [
    "**The p-value obtained is less than our threshold of 0.05. This signifies statistical significance. It would seem that graduates have a higher approval rate.**"
   ]
  },
  {
   "cell_type": "markdown",
   "metadata": {},
   "source": [
    "**Just as before, we will compute the bootstrap replicates, compute their ECDFs and then plot to visualize our results.**"
   ]
  },
  {
   "cell_type": "code",
   "execution_count": 43,
   "metadata": {},
   "outputs": [],
   "source": [
    "grad_bs_reps = draw_bs_reps(df1_grad , np.mean, 10000)\n",
    "ngrad_bs_reps = draw_bs_reps(df1_notgrad , np.mean, 10000)"
   ]
  },
  {
   "cell_type": "code",
   "execution_count": 44,
   "metadata": {},
   "outputs": [],
   "source": [
    "x_grad, y_grad = ecdf(grad_bs_reps)\n",
    "x_ngrad, y_ngrad = ecdf(ngrad_bs_reps)"
   ]
  },
  {
   "cell_type": "code",
   "execution_count": 52,
   "metadata": {},
   "outputs": [
    {
     "data": {
      "text/plain": [
       "Text(0.5,0.4,'61.17 % avg.')"
      ]
     },
     "execution_count": 52,
     "metadata": {},
     "output_type": "execute_result"
    },
    {
     "data": {
      "image/png": "[encoded data removed]",
      "text/plain": [
       "<Figure size 432x288 with 1 Axes>"
      ]
     },
     "metadata": {
      "needs_background": "light"
     },
     "output_type": "display_data"
    }
   ],
   "source": [
    "plt.plot(x_grad, y_grad, marker = '.', linestyle = 'none')\n",
    "plt.plot(x_ngrad, y_ngrad, marker = '.', linestyle = 'none')\n",
    "plt.legend(('Graduates', 'Not graduates'))\n",
    "plt.xlabel('Education')\n",
    "plt.ylabel('ECDF')\n",
    "plt.title('Plot of the means of the distributionsof loan approvals for graduates vs. not graduates')\n",
    "plt.annotate(str(round(np.mean(grad_bs_reps)*100,2)) + ' % avg.', xy=(np.mean(grad_bs_reps), 0.5), xytext=(0.62, 0.40),arrowprops=dict(facecolor='black', shrink=0.01),\n",
    "            )\n",
    "plt.annotate(str(round(np.mean(ngrad_bs_reps)*100,2)) + ' % avg.', xy=(np.mean(ngrad_bs_reps), 0.5), xytext=(0.50, 0.40),arrowprops=dict(facecolor='black', shrink=0.01),\n",
    "            )"
   ]
  },
  {
   "cell_type": "markdown",
   "metadata": {},
   "source": [
    "**Next, let us see if the number of dependents influence a loan approval decision.**"
   ]
  },
  {
   "cell_type": "code",
   "execution_count": 78,
   "metadata": {},
   "outputs": [],
   "source": [
    "df1_dep_0 = df1['New_Loan_Status'].loc[df.Dependents == 0]\n",
    "df1_dep_1 = df1['New_Loan_Status'].loc[df.Dependents == 1]\n",
    "df1_dep_2 = df1['New_Loan_Status'].loc[df.Dependents == 2]\n",
    "df1_dep_3 = df1['New_Loan_Status'].loc[df.Dependents == 3]"
   ]
  },
  {
   "cell_type": "markdown",
   "metadata": {},
   "source": [
    "**Note: df.Dependents == 3 actually implies three or more dependents. The dataset originally had '3+' but we have converted that to '3' so it would be easy to categorize them for future analysis.**"
   ]
  },
  {
   "cell_type": "markdown",
   "metadata": {},
   "source": [
    "**Testing for significance for applicants with 0 dependents vs 1.**"
   ]
  },
  {
   "cell_type": "code",
   "execution_count": 79,
   "metadata": {},
   "outputs": [
    {
     "data": {
      "text/plain": [
       "Ttest_indResult(statistic=0.7436564200892923, pvalue=0.45746402309730605)"
      ]
     },
     "execution_count": 79,
     "metadata": {},
     "output_type": "execute_result"
    }
   ],
   "source": [
    "ttest_ind(df1_dep_0, df1_dep_1)"
   ]
  },
  {
   "cell_type": "markdown",
   "metadata": {},
   "source": [
    "**Our p-value here doesn't indicate statistical significance.**"
   ]
  },
  {
   "cell_type": "markdown",
   "metadata": {},
   "source": [
    "**Next, we test for significance for applicants with 2 dependents vs 1.**"
   ]
  },
  {
   "cell_type": "code",
   "execution_count": 89,
   "metadata": {},
   "outputs": [
    {
     "data": {
      "text/plain": [
       "Ttest_indResult(statistic=-1.64076761391645, pvalue=0.10240954952989303)"
      ]
     },
     "execution_count": 89,
     "metadata": {},
     "output_type": "execute_result"
    }
   ],
   "source": [
    "ttest_ind(df1_dep_1, df1_dep_2)"
   ]
  },
  {
   "cell_type": "markdown",
   "metadata": {},
   "source": [
    "**Our p-value here doesn't indicate statistical significance.**"
   ]
  },
  {
   "cell_type": "markdown",
   "metadata": {},
   "source": [
    "**Next, we test for significance for applicants with 2 dependents vs 3.**"
   ]
  },
  {
   "cell_type": "code",
   "execution_count": 80,
   "metadata": {},
   "outputs": [
    {
     "data": {
      "text/plain": [
       "Ttest_indResult(statistic=1.361822475272917, pvalue=0.1752956853258321)"
      ]
     },
     "execution_count": 80,
     "metadata": {},
     "output_type": "execute_result"
    }
   ],
   "source": [
    "ttest_ind(df1_dep_2, df1_dep_3)"
   ]
  },
  {
   "cell_type": "markdown",
   "metadata": {},
   "source": [
    "**Again, our p-value here doesn't indicate statistical significance.**"
   ]
  },
  {
   "cell_type": "markdown",
   "metadata": {},
   "source": [
    "**Next, we test for significance for applicants with 2 dependents vs 0.**"
   ]
  },
  {
   "cell_type": "code",
   "execution_count": 81,
   "metadata": {},
   "outputs": [
    {
     "data": {
      "text/plain": [
       "Ttest_indResult(statistic=1.2864486378308215, pvalue=0.19893501529838317)"
      ]
     },
     "execution_count": 81,
     "metadata": {},
     "output_type": "execute_result"
    }
   ],
   "source": [
    "ttest_ind(df1_dep_2, df1_dep_0)"
   ]
  },
  {
   "cell_type": "markdown",
   "metadata": {},
   "source": [
    "**Again, our p-value here doesn't indicate statistical significance.**"
   ]
  },
  {
   "cell_type": "markdown",
   "metadata": {},
   "source": [
    "**Next, we test for significance for applicants with 3 dependents vs 0.**"
   ]
  },
  {
   "cell_type": "code",
   "execution_count": 83,
   "metadata": {},
   "outputs": [
    {
     "data": {
      "text/plain": [
       "Ttest_indResult(statistic=0.5589791837896266, pvalue=0.5764818512984863)"
      ]
     },
     "execution_count": 83,
     "metadata": {},
     "output_type": "execute_result"
    }
   ],
   "source": [
    "ttest_ind(df1_dep_0, df1_dep_3)"
   ]
  },
  {
   "cell_type": "markdown",
   "metadata": {},
   "source": [
    "**Once again, our p-value here doesn't indicate statistical significance.**"
   ]
  },
  {
   "cell_type": "markdown",
   "metadata": {},
   "source": [
    "**Now, let's visualize the means of the distributions by number of dependents by generating the bootstrap replicates and then computing the ECDFs.**"
   ]
  },
  {
   "cell_type": "code",
   "execution_count": 84,
   "metadata": {},
   "outputs": [],
   "source": [
    "dep_0_bs_reps = draw_bs_reps(df1_dep_0, np.mean, 10000)\n",
    "dep_1_bs_reps = draw_bs_reps(df1_dep_1, np.mean, 10000)\n",
    "dep_2_bs_reps = draw_bs_reps(df1_dep_2, np.mean, 10000)\n",
    "dep_3_bs_reps = draw_bs_reps(df1_dep_3, np.mean, 10000)"
   ]
  },
  {
   "cell_type": "code",
   "execution_count": 86,
   "metadata": {},
   "outputs": [],
   "source": [
    "xdep_0, ydep0 = ecdf(dep_0_bs_reps)\n",
    "xdep_1, ydep1 = ecdf(dep_1_bs_reps)\n",
    "xdep_2, ydep2 = ecdf(dep_2_bs_reps)\n",
    "xdep_3, ydep3 = ecdf(dep_3_bs_reps)"
   ]
  },
  {
   "cell_type": "code",
   "execution_count": 92,
   "metadata": {},
   "outputs": [
    {
     "data": {
      "text/plain": [
       "Text(0.5,1,'Distribution of the means of loan approvals by number of dependents')"
      ]
     },
     "execution_count": 92,
     "metadata": {},
     "output_type": "execute_result"
    },
    {
     "data": {
      "image/png": "[encoded data removed]",
      "text/plain": [
       "<Figure size 432x288 with 1 Axes>"
      ]
     },
     "metadata": {
      "needs_background": "light"
     },
     "output_type": "display_data"
    }
   ],
   "source": [
    "plt.plot(xdep_0, ydep0, marker = '.', linestyle = 'none')\n",
    "plt.plot(xdep_1, ydep1, marker = '.', linestyle = 'none')\n",
    "plt.plot(xdep_2, ydep2, marker = '.', linestyle = 'none')\n",
    "plt.plot(xdep_3, ydep3, marker = '.', linestyle = 'none')\n",
    "plt.legend(('0 dependents', '1 dependent', '2 dependents', '3 or more dependents'))\n",
    "plt.ylabel('ECDF')\n",
    "plt.title('Distribution of the means of loan approvals by number of dependents')"
   ]
  },
  {
   "cell_type": "markdown",
   "metadata": {},
   "source": [
    "**The p-value from the 2 sample t test for 2 dependents vs. 1 dependent yielded ~0.1 which is close to our significance value. Hence, we can see that these distributions are quite far away from each other. However, since we had our threshold set at 0.05, we didn't reject the null hypothesis.**"
   ]
  },
  {
   "cell_type": "markdown",
   "metadata": {},
   "source": [
    "**Now, let us test to see if there is a significant difference for those who are self employed vs. those who aren't.**"
   ]
  },
  {
   "cell_type": "code",
   "execution_count": 28,
   "metadata": {},
   "outputs": [],
   "source": [
    "df1_self = df1['New_Loan_Status'].loc[df.Self_Employed == 'Yes']\n",
    "df1_notself = df1['New_Loan_Status'].loc[df.Self_Employed != 'Yes']"
   ]
  },
  {
   "cell_type": "code",
   "execution_count": 29,
   "metadata": {},
   "outputs": [
    {
     "data": {
      "text/plain": [
       "Ttest_indResult(statistic=-0.09154440013117748, pvalue=0.9270899835543112)"
      ]
     },
     "execution_count": 29,
     "metadata": {},
     "output_type": "execute_result"
    }
   ],
   "source": [
    "ttest_ind(df1_self, df1_notself)"
   ]
  },
  {
   "cell_type": "code",
   "execution_count": 30,
   "metadata": {},
   "outputs": [],
   "source": [
    "df1_self_bs_reps = draw_bs_reps(df1_self, np.mean, 10000)\n",
    "df1_notself_bs_reps = draw_bs_reps(df1_notself, np.mean, 10000)"
   ]
  },
  {
   "cell_type": "code",
   "execution_count": 31,
   "metadata": {},
   "outputs": [],
   "source": [
    "x_self, y_self = ecdf(df1_self_bs_reps)\n",
    "x_nself, y_nself = ecdf(df1_notself_bs_reps)"
   ]
  },
  {
   "cell_type": "code",
   "execution_count": 52,
   "metadata": {},
   "outputs": [
    {
     "data": {
      "text/plain": [
       "Text(0.72,0.6,'68.81 % avg.')"
      ]
     },
     "execution_count": 52,
     "metadata": {},
     "output_type": "execute_result"
    },
    {
     "data": {
      "image/png": "[encoded data removed]",
      "text/plain": [
       "<Figure size 432x288 with 1 Axes>"
      ]
     },
     "metadata": {},
     "output_type": "display_data"
    }
   ],
   "source": [
    "plt.plot(x_self, y_self, marker = '.', linestyle = 'none')\n",
    "plt.plot(x_nself, y_nself, marker = '.', linestyle = 'none')\n",
    "plt.legend(('Self employed', 'Not self employed'))\n",
    "plt.ylabel('ECDF')\n",
    "plt.xlabel('Percentage')\n",
    "plt.annotate(str(round(np.mean(df1_self_bs_reps)*100,2)) + ' % avg.', xy=(np.mean(df1_self_bs_reps), 0.5), xytext=(0.56, 0.40),arrowprops=dict(facecolor='black', shrink=0.01),\n",
    "            )\n",
    "plt.annotate(str(round(np.mean(df1_notself_bs_reps)*100,2)) + ' % avg.', xy=(np.mean(df1_notself_bs_reps), 0.5), xytext=(0.72, 0.60),arrowprops=dict(facecolor='black', shrink=0.01),\n",
    "            )"
   ]
  },
  {
   "cell_type": "markdown",
   "metadata": {},
   "source": [
    "**From the above plot, we see no significant difference in the mean when it comes to loan appprovals for self employed vs. not self employed applicants.**"
   ]
  },
  {
   "cell_type": "markdown",
   "metadata": {},
   "source": [
    "**Next, we'll try to see if there really is a significant difference in loan approvals for people with credit vs. no credit.**"
   ]
  },
  {
   "cell_type": "markdown",
   "metadata": {},
   "source": [
    "**H0: There is no significant difference in loan approvals for people with credit history vs. those with no credit history.**"
   ]
  },
  {
   "cell_type": "markdown",
   "metadata": {},
   "source": [
    "**H0: There is a significant difference in loan approvals for people with credit history vs. those with no credit history.**"
   ]
  },
  {
   "cell_type": "code",
   "execution_count": 55,
   "metadata": {},
   "outputs": [],
   "source": [
    "df_cred = df['New_Loan_Status'].loc[df.Credit_History == 1.0]\n",
    "df_no_cred = df['New_Loan_Status'].loc[df.Credit_History != 1.0]"
   ]
  },
  {
   "cell_type": "code",
   "execution_count": 57,
   "metadata": {},
   "outputs": [],
   "source": [
    "t_stat, p_val = ttest_ind(df_cred, df_no_cred)"
   ]
  },
  {
   "cell_type": "code",
   "execution_count": 58,
   "metadata": {},
   "outputs": [
    {
     "data": {
      "text/plain": [
       "11.870669715478499"
      ]
     },
     "execution_count": 58,
     "metadata": {},
     "output_type": "execute_result"
    }
   ],
   "source": [
    "t_stat"
   ]
  },
  {
   "cell_type": "code",
   "execution_count": 59,
   "metadata": {},
   "outputs": [
    {
     "data": {
      "text/plain": [
       "2.1445069283823224e-29"
      ]
     },
     "execution_count": 59,
     "metadata": {},
     "output_type": "execute_result"
    }
   ],
   "source": [
    "p_val"
   ]
  },
  {
   "cell_type": "markdown",
   "metadata": {},
   "source": [
    "**Our extremely small p-vaue shows that there is indeed a significant difference in loan approvals for people with no_credit history vs. those with credit history.**"
   ]
  },
  {
   "cell_type": "markdown",
   "metadata": {},
   "source": [
    "**Next, we plot the ECDFs of these distributions.**"
   ]
  },
  {
   "cell_type": "code",
   "execution_count": 60,
   "metadata": {},
   "outputs": [],
   "source": [
    "cred_bs_reps = draw_bs_reps(df_cred, np.mean, 10000)\n",
    "ncred_bs_reps = draw_bs_reps(df_no_cred, np.mean, 10000)"
   ]
  },
  {
   "cell_type": "code",
   "execution_count": 61,
   "metadata": {},
   "outputs": [],
   "source": [
    "x_cred, y_cred = ecdf(cred_bs_reps)\n",
    "x_ncred, y_ncred = ecdf(ncred_bs_reps)"
   ]
  },
  {
   "cell_type": "code",
   "execution_count": 73,
   "metadata": {},
   "outputs": [
    {
     "data": {
      "text/plain": [
       "Text(0.4,0.3,'31.7 % avg.')"
      ]
     },
     "execution_count": 73,
     "metadata": {},
     "output_type": "execute_result"
    },
    {
     "data": {
      "image/png": "[encoded data removed]",
      "text/plain": [
       "<Figure size 432x288 with 1 Axes>"
      ]
     },
     "metadata": {
      "needs_background": "light"
     },
     "output_type": "display_data"
    }
   ],
   "source": [
    "plt.plot(x_cred, y_cred, marker = '.', linestyle = 'none')\n",
    "plt.plot(x_ncred, y_ncred, marker = '.', linestyle = 'none')\n",
    "plt.legend(('With credit history', 'No credit history'), loc = 'center')\n",
    "plt.xlabel('Credit History')\n",
    "plt.ylabel('ECDF')\n",
    "plt.title('Plot of mean of distributions for people with credit history vs. no credit history')\n",
    "plt.annotate(str(round(np.mean(cred_bs_reps)*100,2)) + ' % avg.', xy=(np.mean(cred_bs_reps), 0.5), xytext=(0.60, 0.63),arrowprops=dict(facecolor='red', shrink=0.01),\n",
    "            )\n",
    "plt.annotate(str(round(np.mean(ncred_bs_reps)*100,2)) + ' % avg.', xy=(np.mean(ncred_bs_reps), 0.5), xytext=(0.40, 0.30),arrowprops=dict(facecolor='black', shrink=0.01),\n",
    "            )"
   ]
  },
  {
   "cell_type": "markdown",
   "metadata": {},
   "source": [
    "**We see quite a massive difference above. Chances of a loan approval for an applicants are a lot higher than those with no credit history.**"
   ]
  },
  {
   "cell_type": "markdown",
   "metadata": {},
   "source": [
    "**Next, let us try to find out the correlation between some of the independent variables.**"
   ]
  },
  {
   "cell_type": "code",
   "execution_count": 94,
   "metadata": {},
   "outputs": [],
   "source": [
    "from scipy import stats"
   ]
  },
  {
   "cell_type": "markdown",
   "metadata": {},
   "source": [
    "**From an intuituve sense, it would make sense for an applicant's income be somewhat proportional to the Loan amount requested. Let's see if this is the case.**"
   ]
  },
  {
   "cell_type": "code",
   "execution_count": 98,
   "metadata": {},
   "outputs": [],
   "source": [
    "pearson_r, p_val = stats.pearsonr(df1['ApplicantIncome'], df1['LoanAmount'])"
   ]
  },
  {
   "cell_type": "code",
   "execution_count": 99,
   "metadata": {},
   "outputs": [
    {
     "data": {
      "text/plain": [
       "0.5656204566820271"
      ]
     },
     "execution_count": 99,
     "metadata": {},
     "output_type": "execute_result"
    }
   ],
   "source": [
    "pearson_r"
   ]
  },
  {
   "cell_type": "markdown",
   "metadata": {},
   "source": [
    "**Our pearson correlation coefficient of 0.56 indicates a positive relation between the 2 variables.**"
   ]
  },
  {
   "cell_type": "code",
   "execution_count": 102,
   "metadata": {},
   "outputs": [
    {
     "data": {
      "text/plain": [
       "2.779254792343974e-06"
      ]
     },
     "execution_count": 102,
     "metadata": {},
     "output_type": "execute_result"
    }
   ],
   "source": [
    "p_val"
   ]
  },
  {
   "cell_type": "markdown",
   "metadata": {},
   "source": [
    "**The p-value above indicates that there is indeed a relation. Let us plot the linear regression plot to visualize this relationsip.**"
   ]
  },
  {
   "cell_type": "code",
   "execution_count": 25,
   "metadata": {},
   "outputs": [
    {
     "name": "stderr",
     "output_type": "stream",
     "text": [
      "C:\\Users\\Aditya\\Miniconda2\\envs\\py3k\\lib\\site-packages\\scipy\\stats\\stats.py:1713: FutureWarning: Using a non-tuple sequence for multidimensional indexing is deprecated; use `arr[tuple(seq)]` instead of `arr[seq]`. In the future this will be interpreted as an array index, `arr[np.array(seq)]`, which will result either in an error or a different result.\n",
      "  return np.add.reduce(sorted[indexer] * weights, axis=axis) / sumval\n"
     ]
    },
    {
     "data": {
      "text/plain": [
       "Text(0.5,1,'Regression plot of Loan Amount by Applicant income')"
      ]
     },
     "execution_count": 25,
     "metadata": {},
     "output_type": "execute_result"
    },
    {
     "data": {
      "image/png": "[encoded data removed]",
      "text/plain": [
       "<Figure size 360x360 with 1 Axes>"
      ]
     },
     "metadata": {
      "needs_background": "light"
     },
     "output_type": "display_data"
    }
   ],
   "source": [
    "sns.lmplot(x = 'ApplicantIncome', y ='LoanAmount', data = df1, scatter_kws={\"s\": 8})\n",
    "plt.title('Regression plot of Loan Amount by Applicant income')"
   ]
  },
  {
   "cell_type": "markdown",
   "metadata": {},
   "source": [
    "**Next, let us observe the correlation between the Coapplicant income and the Loan Amount.**"
   ]
  },
  {
   "cell_type": "code",
   "execution_count": 100,
   "metadata": {},
   "outputs": [],
   "source": [
    "pearson_r, p_val = stats.pearsonr(df1['CoapplicantIncome'], df1['LoanAmount'])"
   ]
  },
  {
   "cell_type": "code",
   "execution_count": 101,
   "metadata": {},
   "outputs": [
    {
     "data": {
      "text/plain": [
       "0.18782839323334405"
      ]
     },
     "execution_count": 101,
     "metadata": {},
     "output_type": "execute_result"
    }
   ],
   "source": [
    "pearson_r"
   ]
  },
  {
   "cell_type": "markdown",
   "metadata": {},
   "source": [
    "**Whiile there is a positive correlation, it isn't a very strong one. However, the level of significance computed suggests statistical significance."
   ]
  },
  {
   "cell_type": "code",
   "execution_count": 103,
   "metadata": {},
   "outputs": [
    {
     "data": {
      "text/plain": [
       "2.779254792343974e-06"
      ]
     },
     "execution_count": 103,
     "metadata": {},
     "output_type": "execute_result"
    }
   ],
   "source": [
    "p_val"
   ]
  },
  {
   "cell_type": "markdown",
   "metadata": {},
   "source": [
    "**From the plot below, we see quite a few outliers and some data points to far away from the fittedlinear regression line suggesting the not-so-strong correlation.**"
   ]
  },
  {
   "cell_type": "code",
   "execution_count": 26,
   "metadata": {},
   "outputs": [
    {
     "name": "stderr",
     "output_type": "stream",
     "text": [
      "C:\\Users\\Aditya\\Miniconda2\\envs\\py3k\\lib\\site-packages\\scipy\\stats\\stats.py:1713: FutureWarning: Using a non-tuple sequence for multidimensional indexing is deprecated; use `arr[tuple(seq)]` instead of `arr[seq]`. In the future this will be interpreted as an array index, `arr[np.array(seq)]`, which will result either in an error or a different result.\n",
      "  return np.add.reduce(sorted[indexer] * weights, axis=axis) / sumval\n"
     ]
    },
    {
     "data": {
      "text/plain": [
       "Text(0.5,1,'Regression plot of Loan Amount by CoapplicantIncome')"
      ]
     },
     "execution_count": 26,
     "metadata": {},
     "output_type": "execute_result"
    },
    {
     "data": {
      "image/png": "[encoded data removed]",
      "text/plain": [
       "<Figure size 360x360 with 1 Axes>"
      ]
     },
     "metadata": {
      "needs_background": "light"
     },
     "output_type": "display_data"
    }
   ],
   "source": [
    "sns.lmplot(x = 'CoapplicantIncome', y ='LoanAmount', data = df1, scatter_kws={\"s\": 8})\n",
    "plt.title('Regression plot of Loan Amount by CoapplicantIncome')"
   ]
  },
  {
   "cell_type": "markdown",
   "metadata": {},
   "source": [
    "**Let us now see what we can make of the relation between the Loan Amount requested and the loan amount term.**"
   ]
  },
  {
   "cell_type": "code",
   "execution_count": 106,
   "metadata": {},
   "outputs": [],
   "source": [
    "pearson_r, p_val = stats.pearsonr(df1['Loan_Amount_Term'], df1['LoanAmount'])"
   ]
  },
  {
   "cell_type": "code",
   "execution_count": 107,
   "metadata": {},
   "outputs": [
    {
     "data": {
      "text/plain": [
       "0.03647487204122825"
      ]
     },
     "execution_count": 107,
     "metadata": {},
     "output_type": "execute_result"
    }
   ],
   "source": [
    "pearson_r"
   ]
  },
  {
   "cell_type": "markdown",
   "metadata": {},
   "source": [
    "**We observe a weak correlation that's almost 0. The computed p-value doesn't sugest statistical significance either.**"
   ]
  },
  {
   "cell_type": "code",
   "execution_count": 108,
   "metadata": {},
   "outputs": [
    {
     "data": {
      "text/plain": [
       "0.36691333573267026"
      ]
     },
     "execution_count": 108,
     "metadata": {},
     "output_type": "execute_result"
    }
   ],
   "source": [
    "p_val"
   ]
  }
 ],
 "metadata": {
  "kernelspec": {
   "display_name": "Python 3",
   "language": "python",
   "name": "python3"
  },
  "language_info": {
   "codemirror_mode": {
    "name": "ipython",
    "version": 3
   },
   "file_extension": ".py",
   "mimetype": "text/x-python",
   "name": "python",
   "nbconvert_exporter": "python",
   "pygments_lexer": "ipython3",
   "version": "3.7.0"
  }
 },
 "nbformat": 4,
 "nbformat_minor": 2
}
